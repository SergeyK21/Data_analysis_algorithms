{
 "cells": [
  {
   "cell_type": "code",
   "execution_count": 1,
   "id": "749e1a7e",
   "metadata": {},
   "outputs": [],
   "source": [
    "import numpy as np\n",
    "import math\n",
    "from sklearn import datasets\n",
    "import matplotlib.pyplot as plt\n",
    "from mpl_toolkits.mplot3d.axes3d import Axes3D\n",
    "import warnings\n",
    "warnings.filterwarnings('ignore')"
   ]
  },
  {
   "cell_type": "markdown",
   "id": "49da80dc",
   "metadata": {},
   "source": [
    "__1. Постройте график зависимости весов всех признаков от lambda в самописной L2-регуляризации (на данных про ЕГЭ). Сделайте вывод__"
   ]
  },
  {
   "cell_type": "code",
   "execution_count": 2,
   "id": "dfaa7525",
   "metadata": {},
   "outputs": [],
   "source": [
    "X = np.array([[   1,    1,  500,    1],\n",
    "              [   1,    1,  700,    1],\n",
    "              [   1,    2,  750,    2],\n",
    "              [   1,    5,  600,    1],\n",
    "              [   1,    3, 1450,    2],\n",
    "              [   1,    0,  800,    1],\n",
    "              [   1,    5, 1500,    3],\n",
    "              [   1,   10, 2000,    3],\n",
    "              [   1,    1,  450,    1],\n",
    "              [   1,    2, 1000,    2]])\n"
   ]
  },
  {
   "cell_type": "code",
   "execution_count": 3,
   "id": "7f02bd54",
   "metadata": {},
   "outputs": [],
   "source": [
    "y = [45, 55, 50, 55, 60, 35, 75, 80, 50, 60]"
   ]
  },
  {
   "cell_type": "code",
   "execution_count": 4,
   "id": "9bd7eacd",
   "metadata": {},
   "outputs": [],
   "source": [
    "def standard_scale(X):\n",
    "    mean = X.mean()\n",
    "    std = X.std()\n",
    "    return (X - mean) / std"
   ]
  },
  {
   "cell_type": "code",
   "execution_count": 5,
   "id": "b4379532",
   "metadata": {},
   "outputs": [
    {
     "data": {
      "text/plain": [
       "array([[ 1.        , -0.70710678, -0.97958969, -0.89625816],\n",
       "       [ 1.        , -0.70710678, -0.56713087, -0.89625816],\n",
       "       [ 1.        , -0.35355339, -0.46401617,  0.38411064],\n",
       "       [ 1.        ,  0.70710678, -0.77336028, -0.89625816],\n",
       "       [ 1.        ,  0.        ,  0.97958969,  0.38411064],\n",
       "       [ 1.        , -1.06066017, -0.36090146, -0.89625816],\n",
       "       [ 1.        ,  0.70710678,  1.08270439,  1.66447944],\n",
       "       [ 1.        ,  2.47487373,  2.11385144,  1.66447944],\n",
       "       [ 1.        , -0.70710678, -1.08270439, -0.89625816],\n",
       "       [ 1.        , -0.35355339,  0.05155735,  0.38411064]])"
      ]
     },
     "execution_count": 5,
     "metadata": {},
     "output_type": "execute_result"
    }
   ],
   "source": [
    "X_st = X.copy().astype(np.float64)\n",
    "X_st[:, 1] = standard_scale(X_st[:, 1])\n",
    "X_st[:, 2] = standard_scale(X_st[:, 2])\n",
    "X_st[:, 3] = standard_scale(X_st[:, 3])\n",
    "\n",
    "X_st"
   ]
  },
  {
   "cell_type": "code",
   "execution_count": 6,
   "id": "9808a69d",
   "metadata": {},
   "outputs": [
    {
     "name": "stdout",
     "output_type": "stream",
     "text": [
      "-4.163336342344337e-17 0.9999999999999999\n"
     ]
    },
    {
     "data": {
      "image/png": "[encoded data removed]",
      "text/plain": [
       "<Figure size 432x288 with 1 Axes>"
      ]
     },
     "metadata": {
      "needs_background": "light"
     },
     "output_type": "display_data"
    }
   ],
   "source": [
    "ind = 2\n",
    "print(np.mean(X_st[:, ind]), np.std(X_st[:, ind]))\n",
    "plt.hist(X_st[:, ind])\n",
    "plt.show()"
   ]
  },
  {
   "cell_type": "code",
   "execution_count": 7,
   "id": "3a1e1c82",
   "metadata": {},
   "outputs": [],
   "source": [
    "def calc_mse(y, y_pred):\n",
    "    err = np.mean((y - y_pred)**2)\n",
    "    return err"
   ]
  },
  {
   "cell_type": "code",
   "execution_count": 8,
   "id": "ed7c14dd",
   "metadata": {},
   "outputs": [
    {
     "data": {
      "text/plain": [
       "array([ 0.04129928, -0.17713888, -0.20466579,  0.46916991])"
      ]
     },
     "execution_count": 8,
     "metadata": {},
     "output_type": "execute_result"
    }
   ],
   "source": [
    "W = np.random.randn(X.shape[1])\n",
    "W"
   ]
  },
  {
   "cell_type": "code",
   "execution_count": 9,
   "id": "b252a4cb",
   "metadata": {},
   "outputs": [],
   "source": [
    "def gradient_descent_reg_l2(X, y, iterations, eta=1e-4, reg=1e-8):\n",
    "    W = np.random.randn(X.shape[1])\n",
    "    n = X.shape[0]\n",
    "\n",
    "    for i in range(0, iterations):\n",
    "        y_pred = np.dot(X, W)\n",
    "        err = calc_mse(y, y_pred)\n",
    "\n",
    "        dQ = 2 / n * X.T @ (y_pred - y)  # градиент функции ошибки\n",
    "        dReg = reg * W# (np.sum(W ** 2, axis=0) ** 0.5)  # градиент регуляризации\n",
    "\n",
    "        W -= eta * (dQ + dReg)\n",
    "\n",
    "        if i % (iterations / 10) == 0:\n",
    "            print(f'Iter: {i}, weights: {W}, error {err}')\n",
    "\n",
    "    print(f'Final MSE: {calc_mse(y, np.dot(X, W))}')\n",
    "    return W"
   ]
  },
  {
   "cell_type": "code",
   "execution_count": null,
   "id": "66bf11f1",
   "metadata": {},
   "outputs": [],
   "source": []
  },
  {
   "cell_type": "code",
   "execution_count": 10,
   "id": "4e25fe38",
   "metadata": {},
   "outputs": [
    {
     "name": "stdout",
     "output_type": "stream",
     "text": [
      "Iter: 0, weights: [11.66849982  3.24906031  0.75167582  3.21365031], error 3267.8403929397\n",
      "Iter: 500, weights: [56.49717514  6.30232799 -0.35429153  6.56982603], error 24.904627710484775\n",
      "Iter: 1000, weights: [56.49717514  6.30234588 -0.35437787  6.5698973 ], error 24.90462764669089\n",
      "Iter: 1500, weights: [56.49717514  6.30234588 -0.35437787  6.5698973 ], error 24.904627646688834\n",
      "Iter: 2000, weights: [56.49717514  6.30234588 -0.35437787  6.5698973 ], error 24.904627646688827\n",
      "Iter: 2500, weights: [56.49717514  6.30234588 -0.35437787  6.5698973 ], error 24.904627646688827\n",
      "Iter: 3000, weights: [56.49717514  6.30234588 -0.35437787  6.5698973 ], error 24.904627646688827\n",
      "Iter: 3500, weights: [56.49717514  6.30234588 -0.35437787  6.5698973 ], error 24.904627646688827\n",
      "Iter: 4000, weights: [56.49717514  6.30234588 -0.35437787  6.5698973 ], error 24.904627646688827\n",
      "Iter: 4500, weights: [56.49717514  6.30234588 -0.35437787  6.5698973 ], error 24.904627646688827\n",
      "Final MSE: 24.904627646688827\n"
     ]
    },
    {
     "data": {
      "text/plain": [
       "array([56.49717514,  6.30234588, -0.35437787,  6.5698973 ])"
      ]
     },
     "execution_count": 10,
     "metadata": {},
     "output_type": "execute_result"
    }
   ],
   "source": [
    "gradient_descent_reg_l2(X_st, y, iterations=5000, eta=1e-1, reg=1e-4)"
   ]
  },
  {
   "cell_type": "code",
   "execution_count": 11,
   "id": "1fc071de",
   "metadata": {},
   "outputs": [
    {
     "name": "stdout",
     "output_type": "stream",
     "text": [
      "Iter: 0, weights: [-0.81677828  0.42191769  0.51141699], error 2998.392248516999\n",
      "Iter: 500, weights: [-4.42790809 -0.89990592  0.84789322], error 2966.9722784441033\n",
      "Iter: 1000, weights: [-6.79629056 -1.47934516  2.01247769], error 2952.2153255831195\n",
      "Iter: 1500, weights: [-8.53492246 -1.95439857  3.18605255], error 2942.898191687279\n",
      "Iter: 2000, weights: [-9.85849636 -2.43025687  4.22963028], error 2936.7190279292563\n",
      "Iter: 2500, weights: [-10.8788831   -2.91123065   5.13692499], error 2932.494998574668\n",
      "Iter: 3000, weights: [-11.67052913  -3.38656142   5.92432821], error 2929.524768306692\n",
      "Iter: 3500, weights: [-12.28778379  -3.84639367   6.60948693], error 2927.381233711076\n",
      "Iter: 4000, weights: [-12.77146814  -4.28392858   7.20766951], error 2925.7987048920063\n",
      "Iter: 4500, weights: [-13.15251071  -4.69505058   7.73158065], error 2924.607860600606\n",
      "Final MSE: 2923.6978457366063\n",
      "Iter: 0, weights: [-0.56615575 -1.16828789  1.59897157], error 2995.7682240455647\n",
      "Iter: 500, weights: [-4.27051596 -2.27989061  1.85109683], error 2964.1299272448305\n",
      "Iter: 1000, weights: [-6.70998995 -2.68826567  2.92400307], error 2949.4284600126934\n",
      "Iter: 1500, weights: [-8.49946129 -3.01775248  4.01007619], error 2940.3744115053496\n",
      "Iter: 2000, weights: [-9.85819901 -3.36791499  4.97262169], error 2934.5334048764685\n",
      "Iter: 2500, weights: [-10.90213284  -3.73962474   5.80563441], error 2930.652452291692\n",
      "Iter: 3000, weights: [-11.70886122  -4.11955714   6.52529471], error 2927.997808351345\n",
      "Iter: 3500, weights: [-12.33510013  -4.49580393   7.14889105], error 2926.1300337984126\n",
      "Iter: 4000, weights: [-12.82342783  -4.85988374   7.69127984], error 2924.781288221405\n",
      "Iter: 4500, weights: [-13.20607004  -5.20628566   8.16473612], error 2923.7849096616724\n",
      "Final MSE: 2923.034655492121\n",
      "Iter: 0, weights: [-1.04671531  0.84493935  0.85770686], error 2999.1229867277084\n",
      "Iter: 500, weights: [-4.68450015 -0.70507961  0.94126972], error 2965.6672725340954\n",
      "Iter: 1000, weights: [-7.00501159 -1.35403538  2.04522966], error 2951.438150669415\n",
      "Iter: 1500, weights: [-8.69353501 -1.86093289  3.19955637], error 2942.4857471989385\n",
      "Iter: 2000, weights: [-9.97631466 -2.35679896  4.23403829], error 2936.5122520373384\n",
      "Iter: 2500, weights: [-10.96520209  -2.85216684   5.13560218], error 2932.401350013785\n",
      "Iter: 3000, weights: [-11.73284774  -3.33829023   5.91892454], error 2929.4921461911945\n",
      "Iter: 3500, weights: [-12.33187773  -3.80629538   6.60105233], error 2927.3805605591233\n",
      "Iter: 4000, weights: [-12.80173328  -4.25002187   7.19694451], error 2925.8139087886734\n",
      "Iter: 4500, weights: [-13.17228201  -4.66582033   7.71910372], error 2924.630181036253\n",
      "Final MSE: 2923.722607498968\n",
      "Iter: 0, weights: [ 1.02196431 -0.58755302 -0.86559245], error 3011.4217854810745\n",
      "Iter: 500, weights: [-2.84764032 -1.33514485  0.12338167], error 2977.630202413831\n",
      "Iter: 1000, weights: [-5.55773002 -1.70994152  1.50136259], error 2958.7065959618935\n",
      "Iter: 1500, weights: [-7.58399481 -2.08021984  2.78170902], error 2946.8482479771556\n",
      "Iter: 2000, weights: [-9.13071325 -2.48984816  3.897014  ], error 2939.171765939179\n",
      "Iter: 2500, weights: [-10.32081977  -2.92583778   4.85857411], error 2934.057553504255\n",
      "Iter: 3000, weights: [-11.24093587  -3.37031605   5.68866714], error 2930.550000799562\n",
      "Iter: 3500, weights: [-11.95536126  -3.80930781   6.40790542], error 2928.075845908256\n",
      "Iter: 4000, weights: [-12.51257021  -4.23319448   7.03351695], error 2926.2851144390747\n",
      "Iter: 4500, weights: [-12.9492886   -4.63582145   7.57964873], error 2924.959598727889\n",
      "Final MSE: 2923.959866392481\n",
      "Iter: 0, weights: [-0.24500199 -0.0816343  -0.44239826], error 3000.9327311462584\n",
      "Iter: 500, weights: [-3.82931342 -1.00136456  0.40307898], error 2971.2738443966705\n",
      "Iter: 1000, weights: [-6.30382524 -1.47455721  1.70987862], error 2955.016126287377\n",
      "Iter: 1500, weights: [-8.14794602 -1.91184382  2.94321325], error 2944.700365448117\n",
      "Iter: 2000, weights: [-9.55610375 -2.36977762  4.0236555 ], error 2937.912797815539\n",
      "Iter: 2500, weights: [-10.64122829  -2.84103185   4.95835162], error 2933.312898654468\n",
      "Iter: 3000, weights: [-11.4818656   -3.31121012   5.76743903], error 2930.104754095788\n",
      "Iter: 3500, weights: [-12.13611098  -3.76879526   6.4701107 ], error 2927.8063312038835\n",
      "Iter: 4000, weights: [-12.64773128  -4.20598616   7.08255859], error 2926.1198386654537\n",
      "Iter: 4500, weights: [-13.04989239  -4.61798848   7.61815075], error 2924.856980534782\n",
      "Final MSE: 2923.8955215037254\n",
      "Iter: 0, weights: [ 1.00038974 -1.6220085   0.86294572], error 3008.5441581955215\n",
      "Iter: 500, weights: [-3.03822587 -2.51671081  1.34146376], error 2972.4638664558324\n",
      "Iter: 1000, weights: [-5.76258662 -2.8169695   2.52275957], error 2954.452407045682\n",
      "Iter: 1500, weights: [-7.7731557  -3.07881593  3.67959419], error 2943.4433247748952\n",
      "Iter: 2000, weights: [-9.29961255 -3.38297085  4.69481297], error 2936.453411612013\n",
      "Iter: 2500, weights: [-10.47004663  -3.72284143   5.56876449], error 2931.889199767347\n",
      "Iter: 3000, weights: [-11.37207388  -4.08090451   6.32072744], error 2928.821438567226\n",
      "Iter: 3500, weights: [-12.07011311  -4.44242015   6.97000051], error 2926.698646286499\n",
      "Iter: 4000, weights: [-12.61256371  -4.79687515   7.5329077 ], error 2925.188491086308\n",
      "Iter: 4500, weights: [-13.03603073  -5.13727708   8.02283761], error 2924.086955972703\n",
      "Final MSE: 2923.265981081063\n",
      "Iter: 0, weights: [-0.06881101 -1.45322066  0.84145932], error 2998.529263545223\n",
      "Iter: 500, weights: [-3.7769717  -2.2891241   1.45538498], error 2967.8249259129216\n",
      "Iter: 1000, weights: [-6.30494131 -2.6260192   2.63555116], error 2951.852613202837\n",
      "Iter: 1500, weights: [-8.1778139  -2.93164329  3.7701122 ], error 2941.964431852019\n",
      "Iter: 2000, weights: [-9.60227898 -3.27177168  4.76378118], error 2935.6126699492124\n",
      "Iter: 2500, weights: [-10.69595705  -3.63904913   5.62014553], error 2931.4130418569443\n",
      "Iter: 3000, weights: [-11.53995442  -4.01751946   6.35822943], error 2928.5538639920364\n",
      "Iter: 3500, weights: [-12.19405392  -4.39406352   6.99658943], error 2926.5505800332458\n",
      "Iter: 4000, weights: [-12.70320787  -4.75948213   7.55087655], error 2925.109003352744\n",
      "Iter: 4500, weights: [-13.10142675  -5.10779404   8.03394747], error 2924.046871874424\n",
      "Final MSE: 2923.248543866168\n",
      "Iter: 0, weights: [ 0.02186532 -0.51800724  0.20498141], error 3002.1185504969494\n",
      "Iter: 500, weights: [-3.7078597  -1.50377639  0.82819992], error 2970.41582815096\n",
      "Iter: 1000, weights: [-6.2355426  -1.93801537  2.06099375], error 2954.031678163483\n",
      "Iter: 1500, weights: [-8.10612234 -2.32219327  3.25169364], error 2943.782164260141\n",
      "Iter: 2000, weights: [-9.52961371 -2.7299647   4.29746652], error 2937.112350013791\n",
      "Iter: 2500, weights: [-10.62379227  -3.15648126   5.20083411], error 2932.641099997764\n",
      "Iter: 3000, weights: [-11.46940708  -3.58708009   5.98102722], error 2929.5546913742687\n",
      "Iter: 3500, weights: [-12.12587888  -4.00958147   6.65703095], error 2927.363875498921\n",
      "Iter: 4000, weights: [-12.63787265  -4.41556203   7.24493591], error 2925.76892041884\n",
      "Iter: 4500, weights: [-13.03918462  -4.79970502   7.75800875], error 2924.582094104876\n",
      "Final MSE: 2923.6827864347424\n",
      "Iter: 0, weights: [-0.11171042  0.15884677  1.56332313], error 3007.101775921316\n",
      "Iter: 500, weights: [-4.09134621 -1.45590394  1.36028001], error 2967.159938618589\n",
      "Iter: 1000, weights: [-6.58612934 -2.02486122  2.38779489], error 2951.6810139615436\n",
      "Iter: 1500, weights: [-8.38594249 -2.43836856  3.50514348], error 2942.2298637344243\n",
      "Iter: 2000, weights: [-9.74583344 -2.85050395  4.50918061], error 2936.067641936788\n",
      "Iter: 2500, weights: [-10.78918815  -3.27389196   5.38118418], error 2931.920367414066\n",
      "Iter: 3000, weights: [-11.59521595  -3.6982697    6.13536515], error 2929.0459009058313\n",
      "Iter: 3500, weights: [-12.22098843  -4.11297447   6.78912685], error 2926.9975816081865\n",
      "Iter: 4000, weights: [-12.70914381  -4.51034129   7.35779029], error 2925.5010890557423\n",
      "Iter: 4500, weights: [-13.09188664  -4.88552812   7.85410643], error 2924.3840680689655\n",
      "Final MSE: 2923.5353860142454\n",
      "Iter: 0, weights: [0.25147223 1.60675312 0.61283684], error 3016.548412118182\n",
      "Iter: 500, weights: [-3.83918859 -0.27507475  0.3718819 ], error 2972.415467241274\n",
      "Iter: 1000, weights: [-6.37395946 -0.99353395  1.47668882], error 2955.7922282675536\n",
      "Iter: 1500, weights: [-8.197134   -1.52227862  2.68500545], error 2945.519643724959\n"
     ]
    },
    {
     "name": "stdout",
     "output_type": "stream",
     "text": [
      "Iter: 2000, weights: [-9.57514515 -2.03330557  3.7743097 ], error 2938.7056001995447\n",
      "Iter: 2500, weights: [-10.6339844   -2.54386738   4.72293641], error 2934.0377591483416\n",
      "Iter: 3000, weights: [-11.45362355  -3.04555058   5.54535222], error 2930.747214316143\n",
      "Iter: 3500, weights: [-12.0914734   -3.52888917   6.25976121], error 2928.3662145945186\n",
      "Iter: 4000, weights: [-12.59038884  -3.9871979    6.8823081 ], error 2926.603636597963\n",
      "Iter: 4500, weights: [-12.98273938  -4.41649239   7.42649612], error 2925.2737076058556\n",
      "Final MSE: 2924.254575518022\n",
      "Iter: 0, weights: [-2.12733498  1.10933529  0.62890924], error 2990.007866573658\n",
      "Iter: 500, weights: [-5.39912768 -0.35372337  0.91827549], error 2962.505606671998\n",
      "Iter: 1000, weights: [-7.50882833 -1.04410452  2.04126048], error 2949.9032895040573\n",
      "Iter: 1500, weights: [-9.04917496 -1.6040657   3.18032668], error 2941.788863296745\n",
      "Iter: 2000, weights: [-10.22036784  -2.14383416   4.19564188], error 2936.273820094729\n",
      "Iter: 2500, weights: [-11.12349544  -2.67221899   5.07961436], error 2932.4095097132767\n",
      "Iter: 3000, weights: [-11.82481707  -3.18213152   5.84747416], error 2929.6281330053803\n",
      "Iter: 3500, weights: [-12.37241728  -3.666621     6.51595846], error 2927.5784216635716\n",
      "Iter: 4000, weights: [-12.80231195  -4.12116549   7.09965219], error 2926.0375159579753\n",
      "Iter: 4500, weights: [-13.14174228  -4.54342859   7.61075521], error 2924.8601239172044\n",
      "Final MSE: 2923.9487611575723\n",
      "Iter: 0, weights: [ 0.27022107 -0.1934349  -1.30407668], error 3005.9084723843166\n",
      "Iter: 500, weights: [-3.32268311 -0.87028744 -0.09961557], error 2975.7412524444912\n",
      "Iter: 1000, weights: [-5.87998184 -1.29103878  1.32047533], error 2958.0573924856412\n",
      "Iter: 1500, weights: [-7.79880088 -1.71823968  2.60750879], error 2946.827901771706\n",
      "Iter: 2000, weights: [-9.26326856 -2.1765145   3.72217062], error 2939.465401005302\n",
      "Iter: 2500, weights: [-10.38892032  -2.65093038   4.68139935], error 2934.49188357629\n",
      "Iter: 3000, weights: [-11.25823431  -3.12485954   5.50856506], error 2931.031794845968\n",
      "Iter: 3500, weights: [-11.93255981  -3.58592856   6.22447835], error 2928.5570946149605\n",
      "Iter: 4000, weights: [-12.45809248  -4.02594807   6.84640984], error 2926.7428875221162\n",
      "Iter: 4500, weights: [-12.86976244  -4.43995455   7.38853613], error 2925.384509990177\n",
      "Final MSE: 2924.349563276262\n",
      "Iter: 0, weights: [ 0.69185712 -0.49388066  1.13799649], error 3010.7131780845857\n",
      "Iter: 500, weights: [-3.40552424 -1.83220046  1.19696235], error 2971.135045156398\n",
      "Iter: 1000, weights: [-6.04525565 -2.28693669  2.29610758], error 2954.034234857824\n",
      "Iter: 1500, weights: [-7.96210342 -2.63192278  3.43793972], error 2943.611417917774\n",
      "Iter: 2000, weights: [-9.4087982  -2.99392802  4.4510896 ], error 2936.909041663751\n",
      "Iter: 2500, weights: [-10.5148933   -3.37760058   5.32500847], error 2932.462855681978\n",
      "Iter: 3000, weights: [-11.3657347   -3.76934295   6.07678726], error 2929.422745000178\n",
      "Iter: 3500, weights: [-12.02321603  -4.15658525   6.72530674], error 2927.282209216695\n",
      "Iter: 4000, weights: [-12.5335673   -4.53038895   7.28684567], error 2925.733799634766\n",
      "Iter: 4500, weights: [-12.93162868  -4.88501364   7.77483409], error 2924.5868256995814\n",
      "Final MSE: 2923.720023924087\n",
      "Iter: 0, weights: [ 1.07668915 -0.38502254 -0.45100657], error 3012.5486241977596\n",
      "Iter: 500, weights: [-2.89555981 -1.32991745  0.27104389], error 2976.951475241246\n",
      "Iter: 1000, weights: [-5.59758057 -1.74024155  1.57823025], error 2958.292531062594\n",
      "Iter: 1500, weights: [-7.59325532 -2.11146422  2.82459041], error 2946.6880489782366\n",
      "Iter: 2000, weights: [-9.10612866 -2.51281147  3.91199466], error 2939.187901655242\n",
      "Iter: 2500, weights: [-10.26388271  -2.93658929   4.84631279], error 2934.190545687979\n",
      "Iter: 3000, weights: [-11.15448468  -3.366322     5.6492271 ], error 2930.758378443247\n",
      "Iter: 3500, weights: [-11.84258728  -3.78868632   6.34157292], error 2928.3315388070077\n",
      "Iter: 4000, weights: [-12.3766359   -4.19455995   6.94086181], error 2926.56932528118\n",
      "Iter: 4500, weights: [-12.79315295  -4.57822507   7.4614623 ], error 2925.259720450187\n",
      "Final MSE: 2924.2673558873425\n",
      "Iter: 0, weights: [-1.3180212   0.50645596 -0.75838418], error 2993.674752601847\n",
      "Iter: 500, weights: [-4.55164776 -0.41606985  0.23819324], error 2968.3673694785566\n",
      "Iter: 1000, weights: [-6.7995458  -0.96938313  1.5596198 ], error 2953.8618686348773\n",
      "Iter: 1500, weights: [-8.47409619 -1.4834959   2.78001315], error 2944.4769369050414\n",
      "Iter: 2000, weights: [-9.74954738 -2.00193755  3.84238468], error 2938.1786895345663\n",
      "Iter: 2500, weights: [-10.72957635  -2.51777824   4.75838655], error 2933.820842786425\n",
      "Iter: 3000, weights: [-11.48672328  -3.01925506   5.54899264], error 2930.718420275647\n",
      "Iter: 3500, weights: [-12.07455577  -3.49748369   6.23351722], error 2928.452513725541\n",
      "Iter: 4000, weights: [-12.53327705  -3.94690868   6.82815968], error 2926.7607377382415\n",
      "Iter: 4500, weights: [-12.89322336  -4.36458077   7.34629563], error 2925.474291605224\n",
      "Final MSE: 2924.481418657179\n",
      "Iter: 0, weights: [1.85420561 2.1456208  1.40109261], error 3045.4168430721834\n",
      "Iter: 500, weights: [-2.9341082  -0.32996299  0.36023887], error 2978.2639488687596\n",
      "Iter: 1000, weights: [-5.73226771 -1.11719999  1.33166176], error 2958.8747246709318\n",
      "Iter: 1500, weights: [-7.69359754 -1.62044493  2.52701375], error 2947.4746676413774\n",
      "Iter: 2000, weights: [-9.15737187 -2.09405599  3.61842136], error 2940.045030410203\n",
      "Iter: 2500, weights: [-10.27219287  -2.56942728   4.56571843], error 2935.0265766481\n",
      "Iter: 3000, weights: [-11.1283212   -3.03946956   5.38152688], error 2931.5313021105894\n",
      "Iter: 3500, weights: [-11.7893331   -3.49401049   6.08505828], error 2929.026931671691\n",
      "Iter: 4000, weights: [-12.3022305   -3.92560804   6.69368835], error 2927.186766083687\n",
      "Iter: 4500, weights: [-12.7022717   -4.32974846   7.22193821], error 2925.8052305772226\n",
      "Final MSE: 2924.7493566284134\n",
      "Iter: 0, weights: [ 1.8531281   0.82603685 -1.51751823], error 3024.532800883874\n",
      "Iter: 500, weights: [-2.32120602 -0.31566352 -0.76775874], error 2984.5381024590874\n",
      "Iter: 1000, weights: [-5.13147826 -0.83773335  0.6391518 ], error 2963.8524073825756\n",
      "Iter: 1500, weights: [-7.19593226 -1.29726057  1.98254393], error 2950.9216577309103\n",
      "Iter: 2000, weights: [-8.75513735 -1.77503051  3.15292251], error 2942.495111807549\n",
      "Iter: 2500, weights: [-9.94461698 -2.26568366  4.15640925], error 2936.8264671331813\n",
      "Iter: 3000, weights: [-10.85702623  -2.75357724   5.01668979], error 2932.8940411735152\n",
      "Iter: 3500, weights: [-11.56012798  -3.22608681   5.75655992], error 2930.086323520911\n",
      "Iter: 4000, weights: [-12.10449469  -3.67483505   6.39518714], error 2928.0293588560517\n",
      "Iter: 4500, weights: [-12.52811249  -4.09487569   6.94830474], error 2926.488753083822\n",
      "Final MSE: 2925.313488720764\n",
      "Iter: 0, weights: [-0.83112614  2.87529217  0.57841644], error 3013.7793245978414\n",
      "Iter: 500, weights: [-4.6735023   0.65518255  0.1545166 ], error 2969.849968704018\n",
      "Iter: 1000, weights: [-6.95309191 -0.24477138  1.21322542], error 2955.029222390164\n",
      "Iter: 1500, weights: [-8.5616216  -0.89745345  2.39815544], error 2945.7798146920136\n",
      "Iter: 2000, weights: [-9.76602276 -1.4982469   3.46662106], error 2939.484511542\n",
      "Iter: 2500, weights: [-10.6857374   -2.07322191   4.39367119], error 2935.0536945049244\n",
      "Iter: 3000, weights: [-11.39414333  -2.61939702   5.19346284], error 2931.848611738885\n",
      "Iter: 3500, weights: [-11.9430742   -3.13146215   5.88439471], error 2929.474803571895\n",
      "Iter: 4000, weights: [-12.37084125  -3.60608839   6.48287669], error 2927.6814668659913\n",
      "Iter: 4500, weights: [-12.70615674  -4.04202447   7.00267138], error 2926.304412300135\n",
      "Final MSE: 2925.232922033207\n",
      "Iter: 0, weights: [-0.44453328 -1.13862657 -2.02217791], error 3001.4878657359995\n",
      "Iter: 500, weights: [-3.5732054  -1.18704991 -0.07483269], error 2973.997000798028\n",
      "Iter: 1000, weights: [-5.97760211 -1.46799861  1.45453763], error 2957.1156163490973\n",
      "Iter: 1500, weights: [-7.80563269 -1.84918419  2.71844434], error 2946.420602344833\n",
      "Iter: 2000, weights: [-9.19462083 -2.27571244  3.78093872], error 2939.430909406576\n",
      "Iter: 2500, weights: [-10.25249336  -2.71721372   4.68131486], error 2934.7137148314787\n",
      "Iter: 3000, weights: [-11.06096706  -3.15473125   5.44849151], error 2931.4282750884263\n",
      "Iter: 3500, weights: [-11.68136317  -3.5762455    6.10511958], error 2929.071996782972\n"
     ]
    },
    {
     "name": "stdout",
     "output_type": "stream",
     "text": [
      "Iter: 4000, weights: [-12.15962496  -3.97442438   6.66933606], error 2927.3376141755734\n",
      "Iter: 4500, weights: [-12.53019119  -4.34518554   7.15582461], error 2926.032334612411\n",
      "Final MSE: 2925.031679375946\n",
      "Iter: 0, weights: [-0.36995312 -0.10399728  1.43542086], error 3002.4251631091183\n",
      "Iter: 500, weights: [-4.18400464 -1.54697157  1.39451698], error 2966.4047610654357\n",
      "Iter: 1000, weights: [-6.57368949 -2.0622661   2.41276816], error 2951.6420698689653\n",
      "Iter: 1500, weights: [-8.27964188 -2.4433077   3.47540299], error 2942.626946856701\n",
      "Iter: 2000, weights: [-9.55042957 -2.82203119  4.41104913], error 2936.7610099625063\n",
      "Iter: 2500, weights: [-10.51062179  -3.20673803   5.21013362], error 2932.8067543767656\n",
      "Iter: 3000, weights: [-11.24091855  -3.58712912   5.89029386], error 2930.0527876351043\n",
      "Iter: 3500, weights: [-11.79906351  -3.9535336    6.47066294], error 2928.07611226889\n",
      "Iter: 4000, weights: [-12.22766364  -4.29947371   6.96761714], error 2926.6189830737967\n",
      "Iter: 4500, weights: [-12.5584548   -4.62125013   7.3945978 ], error 2925.520082811662\n",
      "Final MSE: 2924.675452910298\n",
      "Iter: 0, weights: [1.053836   0.02795607 0.3899605 ], error 3015.290667966259\n",
      "Iter: 500, weights: [-3.07475415 -1.30051898  0.58473355], error 2975.137389503775\n",
      "Iter: 1000, weights: [-5.71439507 -1.77790878  1.73765398], error 2957.3079756843754\n",
      "Iter: 1500, weights: [-7.60578727 -2.14725179  2.89481872], error 2946.4491814399794\n",
      "Iter: 2000, weights: [-9.01158658 -2.52579031  3.9020809 ], error 2939.4585832819575\n",
      "Iter: 2500, weights: [-10.06954538  -2.91606196   4.75673976], error 2934.796104162542\n",
      "Iter: 3000, weights: [-10.87052583  -3.30480721   5.48034254], error 2931.580451513599\n",
      "Iter: 3500, weights: [-11.47974632  -3.68061503   6.09473531], error 2929.2921857764472\n",
      "Iter: 4000, weights: [-11.94524041  -4.03595527   6.61832521], error 2927.6177234981296\n",
      "Iter: 4500, weights: [-12.30266897  -4.36651252   7.06611534], error 2926.362634494645\n",
      "Final MSE: 2925.4027793537\n",
      "Iter: 0, weights: [-1.2198613   0.68510751 -0.18045827], error 2995.043030237637\n",
      "Iter: 500, weights: [-4.54992356 -0.485628    0.46479925], error 2967.7290125525387\n",
      "Iter: 1000, weights: [-6.73779502 -1.07341652  1.6692181 ], error 2953.715843077306\n",
      "Iter: 1500, weights: [-8.31889631 -1.57176852  2.80720952], error 2944.7991170729874\n",
      "Iter: 2000, weights: [-9.49694273 -2.05610064  3.78789948], error 2938.8476066718804\n",
      "Iter: 2500, weights: [-10.38448109  -2.52690584   4.61937238], error 2934.7365436222817\n",
      "Iter: 3000, weights: [-11.05723046  -2.97539013   5.32396173], error 2931.807791690708\n",
      "Iter: 3500, weights: [-11.56977176  -3.39478221   5.92268719], error 2929.663869944155\n",
      "Iter: 4000, weights: [-11.96228215  -3.78135752   6.43309288], error 2928.057698906079\n",
      "Iter: 4500, weights: [-12.26454019  -4.13377163   6.86951899], error 2926.8309399656937\n",
      "Final MSE: 2925.878915486418\n",
      "Iter: 0, weights: [ 0.80130245 -0.81261894 -0.8604228 ], error 3008.784114387369\n",
      "Iter: 500, weights: [-2.94597758 -1.43532992  0.22732935], error 2976.642850643031\n",
      "Iter: 1000, weights: [-5.52282786 -1.76139633  1.55876045], error 2958.676959948974\n",
      "Iter: 1500, weights: [-7.39824926 -2.09003059  2.74176175], error 2947.6033470106663\n",
      "Iter: 2000, weights: [-8.78807221 -2.44839408  3.7380446 ], error 2940.5045148952436\n",
      "Iter: 2500, weights: [-9.82549035 -2.82063625  4.57040551], error 2935.786749283801\n",
      "Iter: 3000, weights: [-10.60340881  -3.18990598   5.2671189 ], error 2932.5401187482285\n",
      "Iter: 3500, weights: [-11.18919152  -3.54438462   5.85253   ], error 2930.2326460468794\n",
      "Iter: 4000, weights: [-11.63225574  -3.87686433   6.34636305], error 2928.5452535673307\n",
      "Iter: 4500, weights: [-11.96900289  -4.18351473   6.76445912], error 2927.2809580065664\n",
      "Final MSE: 2926.3142977024872\n",
      "Iter: 0, weights: [ 0.85162252  0.7287784  -0.6286467 ], error 3014.516564967696\n",
      "Iter: 500, weights: [-3.09875939 -0.54002314 -0.10637024], error 2977.5335337712454\n",
      "Iter: 1000, weights: [-5.63719025 -1.0844058   1.14819859], error 2959.8125717600956\n",
      "Iter: 1500, weights: [-7.4412583  -1.52895595  2.34128891], error 2948.9034920270374\n",
      "Iter: 2000, weights: [-8.76540464 -1.96741694  3.35821711], error 2941.821891051553\n",
      "Iter: 2500, weights: [-9.74840569 -2.39977511  4.2082356 ], error 2937.0495319595743\n",
      "Iter: 3000, weights: [-10.48247856  -2.81472094   4.91801886], error 2933.721761645196\n",
      "Iter: 3500, weights: [-11.03329209  -3.20357993   5.5124279 ], error 2931.3295853242694\n",
      "Iter: 4000, weights: [-11.44860208  -3.56147129   6.0119545 ], error 2929.564331807111\n",
      "Iter: 4500, weights: [-11.76337649  -3.8864289    6.43313042], error 2928.2327935398453\n",
      "Final MSE: 2927.2100179285003\n",
      "Iter: 0, weights: [-1.33082177 -0.41528311 -0.05507851], error 2990.5104305550985\n",
      "Iter: 500, weights: [-4.48231648 -1.19483916  0.85261525], error 2966.2720786636814\n",
      "Iter: 1000, weights: [-6.59210924 -1.62156641  2.02580706], error 2952.875863633927\n",
      "Iter: 1500, weights: [-8.10297651 -2.00940938  3.06786016], error 2944.4724017414296\n",
      "Iter: 2000, weights: [-9.20849099 -2.39559086  3.93883126], error 2938.9593484142456\n",
      "Iter: 2500, weights: [-10.02425265  -2.77246392   4.65972914], error 2935.204761759434\n",
      "Iter: 3000, weights: [-10.62933483  -3.12974211   5.25710009], error 2932.5601849722943\n",
      "Iter: 3500, weights: [-11.0802454   -3.46072691   5.75377151], error 2930.641994037182\n",
      "Iter: 4000, weights: [-11.41790791  -3.76213392   6.16817747], error 2929.215782712016\n",
      "Iter: 4500, weights: [-11.67210242  -4.03309641   6.51506874], error 2928.133403655042\n",
      "Final MSE: 2927.2980115445343\n",
      "Iter: 0, weights: [ 0.5633589   0.72542284 -0.32385252], error 3011.9983948245354\n",
      "Iter: 500, weights: [-3.31237885 -0.60148009  0.09547037], error 2975.643969218302\n",
      "Iter: 1000, weights: [-5.73769661 -1.15053082  1.28222555], error 2958.932240254627\n",
      "Iter: 1500, weights: [-7.42722734 -1.58240448  2.40493639], error 2948.74949112366\n",
      "Iter: 2000, weights: [-8.64543132 -1.99707191  3.34809924], error 2942.1686576284005\n",
      "Iter: 2500, weights: [-9.53441107 -2.39711647  4.12372089], error 2937.7429235897557\n",
      "Iter: 3000, weights: [-10.18711926  -2.77346296   4.76064087], error 2934.6604574691273\n",
      "Iter: 3500, weights: [-10.66869265  -3.11949364   5.28511697], error 2932.447418453081\n",
      "Iter: 4000, weights: [-11.02574398  -3.43211943   5.71848289], error 2930.817503429119\n",
      "Iter: 4500, weights: [-11.29186345  -3.71085732   6.07773403], error 2929.591503715019\n",
      "Final MSE: 2928.6532573430895\n",
      "Iter: 0, weights: [-0.93960277  0.22280902 -0.32481017], error 2995.7732598841835\n",
      "Iter: 500, weights: [-4.20325156 -0.75964449  0.46743838], error 2969.266402239883\n",
      "Iter: 1000, weights: [-6.30329903 -1.25746897  1.63366222], error 2955.415293714535\n",
      "Iter: 1500, weights: [-7.76887243 -1.67946289  2.6691963 ], error 2946.820822046235\n",
      "Iter: 2000, weights: [-8.81852114 -2.08102398  3.52160216], error 2941.209278708021\n",
      "Iter: 2500, weights: [-9.57763776 -2.45975667  4.21423551], error 2937.399896371054\n",
      "Iter: 3000, weights: [-10.12974043  -2.80846825   4.77722389], error 2934.7256738470023\n",
      "Iter: 3500, weights: [-10.53324863  -3.1230389    5.23623309], error 2932.794468512902\n",
      "Iter: 4000, weights: [-10.82964416  -3.40242064   5.6117268 ], error 2931.366902577242\n",
      "Iter: 4500, weights: [-11.04854339  -3.64763257   5.91985979], error 2930.2913283513417\n",
      "Final MSE: 2929.4682378746215\n",
      "Iter: 0, weights: [ 0.04007479  0.39958141 -0.79725091], error 3005.138406661066\n",
      "Iter: 500, weights: [-3.50411823 -0.61679921  0.03663685], error 2974.57302709233\n",
      "Iter: 1000, weights: [-5.75446452 -1.1125474   1.25913621], error 2958.951477154941\n",
      "Iter: 1500, weights: [-7.30303616 -1.52854965  2.33011478], error 2949.43800728791\n",
      "Iter: 2000, weights: [-8.39637553 -1.9228114   3.19905623], error 2943.326610664436\n",
      "Iter: 2500, weights: [-9.17575417 -2.29235926  3.89490222], error 2939.2372113933266\n",
      "Iter: 3000, weights: [-9.73441037 -2.62975916  4.45233177], error 2936.403756880668\n",
      "Iter: 3500, weights: [-10.13677555  -2.93111847   4.90027805], error 2934.3824986928776\n",
      "Iter: 4000, weights: [-10.42800951  -3.19585899   5.26148596], error 2932.905862755821\n",
      "Iter: 4500, weights: [-10.63993203  -3.42554016   5.55368421], error 2931.8060661545983\n",
      "Final MSE: 2930.9739829611594\n",
      "Iter: 0, weights: [-0.20008631 -0.54523662  1.44526008], error 3001.907448698213\n",
      "Iter: 500, weights: [-3.87261752 -1.75733375  1.39932468], error 2967.9626026712044\n",
      "Iter: 1000, weights: [-6.01507103 -2.10977638  2.25445388], error 2954.4070306006106\n"
     ]
    },
    {
     "name": "stdout",
     "output_type": "stream",
     "text": [
      "Iter: 1500, weights: [-7.43037566 -2.34543285  3.07778882], error 2946.5127712621033\n",
      "Iter: 2000, weights: [-8.4036866  -2.57272641  3.74566479], error 2941.5585290036074\n",
      "Iter: 2500, weights: [-9.08204709 -2.79493406  4.27109301], error 2938.3058036667\n",
      "Iter: 3000, weights: [-9.55774919 -3.00356188  4.6831429 ], error 2936.0899079817564\n",
      "Iter: 3500, weights: [-9.8928451  -3.19272903  5.00716992], error 2934.5340586140874\n",
      "Iter: 4000, weights: [-10.12994009  -3.35995435   5.2629461 ], error 2933.414792466066\n",
      "Iter: 4500, weights: [-10.29849268  -3.50508972   5.46559488], error 2932.593817664154\n",
      "Final MSE: 2931.9821676693455\n",
      "Iter: 0, weights: [-0.82433361  1.31049623 -0.73491369], error 3000.7402081352416\n",
      "Iter: 500, weights: [-4.06511182 -0.02855199 -0.04516062], error 2972.3194521489613\n",
      "Iter: 1000, weights: [-6.00024692 -0.68256205  1.10730932], error 2958.705440341466\n",
      "Iter: 1500, weights: [-7.27779968 -1.18563968  2.10296071], error 2950.437755659048\n",
      "Iter: 2000, weights: [-8.1489998  -1.62118948  2.88892996], error 2945.111412336388\n",
      "Iter: 2500, weights: [-8.7501779  -1.99993286  3.49945179], error 2941.5436604415586\n",
      "Iter: 3000, weights: [-9.16774387 -2.32446396  3.9733451 ], error 2939.079359442652\n",
      "Iter: 3500, weights: [-9.45936555 -2.59854647  4.34210036], error 2937.335230885514\n",
      "Iter: 4000, weights: [-9.66415822 -2.8273458   4.62988228], error 2936.0766458051476\n",
      "Iter: 4500, weights: [-9.80882139 -3.01661655  4.85508553], error 2935.1541873396313\n",
      "Final MSE: 2934.469456668279\n",
      "Iter: 0, weights: [-0.96249294  0.99710136 -0.34622594], error 2998.470619212217\n",
      "Iter: 500, weights: [-4.12332466 -0.3076079   0.23769575], error 2970.902315968005\n",
      "Iter: 1000, weights: [-5.95317046 -0.90654812  1.29412204], error 2958.1858289797824\n",
      "Iter: 1500, weights: [-7.12943406 -1.35132142  2.19292468], error 2950.607394591225\n",
      "Iter: 2000, weights: [-7.91156414 -1.72778309  2.88640427], error 2945.8004035570216\n",
      "Iter: 2500, weights: [-8.43800788 -2.04836973  3.41214796], error 2942.628689695\n",
      "Iter: 3000, weights: [-8.79468914 -2.31725557  3.81032675], error 2940.4720928192432\n",
      "Iter: 3500, weights: [-9.03766529 -2.53939866  4.11263773], error 2938.971147009875\n",
      "Iter: 4000, weights: [-9.20409089 -2.72071355  4.34284334], error 2937.9072745409835\n",
      "Iter: 4500, weights: [-9.31874721 -2.86731333  4.51863025], error 2937.142155980781\n",
      "Final MSE: 2936.585357195611\n",
      "Iter: 0, weights: [-0.34351847  0.32356996  0.16734422], error 3001.9141198754814\n",
      "Iter: 500, weights: [-3.71777825 -0.8689903   0.54608294], error 2971.787174375621\n",
      "Iter: 1000, weights: [-5.5988178  -1.31899171  1.48275331], error 2958.912527826672\n",
      "Iter: 1500, weights: [-6.76717221 -1.63492958  2.27236403], error 2951.5631281972865\n",
      "Iter: 2000, weights: [-7.51852552 -1.90337507  2.86406392], error 2947.06506400849\n",
      "Iter: 2500, weights: [-8.00761631 -2.13281181  3.29818212], error 2944.1924743712366\n",
      "Iter: 3000, weights: [-8.32796891 -2.32438676  3.61622208], error 2942.299470812942\n",
      "Iter: 3500, weights: [-8.53884023 -2.48092589  3.84985688], error 2941.022140289703\n",
      "Iter: 4000, weights: [-8.67833734 -2.60672038  4.02206511], error 2940.144464633501\n",
      "Iter: 4500, weights: [-8.77111082 -2.70653928  4.14940292], error 2939.532734126115\n",
      "Final MSE: 2939.1014155619478\n",
      "Iter: 0, weights: [-2.60500418 -0.36831181 -0.43821514], error 2981.755446932424\n",
      "Iter: 500, weights: [-4.7665695  -0.8863672   0.74453795], error 2965.3606098138116\n",
      "Iter: 1000, weights: [-6.07702605 -1.26324358  1.6663525 ], error 2956.3234324997866\n",
      "Iter: 1500, weights: [-6.89361889 -1.57462612  2.3280646 ], error 2950.991803715326\n",
      "Iter: 2000, weights: [-7.40766446 -1.8302743   2.79634073], error 2947.7025521850833\n",
      "Iter: 2500, weights: [-7.73312068 -2.03525424  3.12773706], error 2945.606101027471\n",
      "Iter: 3000, weights: [-7.94019023 -2.19628152  3.36296694], error 2944.2373750713514\n",
      "Iter: 3500, weights: [-8.07260265 -2.32081757  3.53049701], error 2943.327432835608\n",
      "Iter: 4000, weights: [-8.15773493 -2.41599544  3.65018444], error 2942.713926867709\n",
      "Iter: 4500, weights: [-8.21279006 -2.48807503  3.73592978], error 2942.2955873494257\n",
      "Final MSE: 2942.007649749971\n",
      "Iter: 0, weights: [-0.39667403  0.54720812 -0.39514476], error 3001.7690490624627\n",
      "Iter: 500, weights: [-3.55643477 -0.60220839  0.23995938], error 2973.809622209457\n",
      "Iter: 1000, weights: [-5.21992059 -1.07400291  1.1743353 ], error 2961.776096851616\n",
      "Iter: 1500, weights: [-6.18370784 -1.39463188  1.88124329], error 2955.2085257900762\n",
      "Iter: 2000, weights: [-6.75953562 -1.64287329  2.36970558], error 2951.3799883215615\n",
      "Iter: 2500, weights: [-7.10744929 -1.83526393  2.70185076], error 2949.0593794720153\n",
      "Iter: 3000, weights: [-7.31895876 -1.98158381  2.92758529], error 2947.614656954595\n",
      "Iter: 3500, weights: [-7.44821006 -2.09093838  3.0814179 ], error 2946.697758707552\n",
      "Iter: 4000, weights: [-7.52761069 -2.17155409  3.18658179], error 2946.1073433730444\n",
      "Iter: 4500, weights: [-7.57666237 -2.23036032  3.25868663], error 2945.722773598209\n",
      "Final MSE: 2945.4699051039997\n",
      "Iter: 0, weights: [ 0.58092258 -0.00187481  1.19979385], error 3012.3771987432638\n",
      "Iter: 500, weights: [-3.13189651 -1.29542523  0.85816703], error 2974.2788890168927\n",
      "Iter: 1000, weights: [-4.86056865 -1.55401724  1.46490774], error 2962.420738256183\n",
      "Iter: 1500, weights: [-5.78563409 -1.67861127  1.9697212 ], error 2956.533000760238\n",
      "Iter: 2000, weights: [-6.30374154 -1.77851134  2.30699062], error 2953.3265513232186\n",
      "Iter: 2500, weights: [-6.59825011 -1.86101035  2.5237983 ], error 2951.502621936827\n",
      "Iter: 3000, weights: [-6.76673098 -1.92582035  2.66250412], error 2950.436649245977\n",
      "Iter: 3500, weights: [-6.86354243 -1.97461279  2.75146923], error 2949.80207993459\n",
      "Iter: 4000, weights: [-6.91940802 -2.01025326  2.80875455], error 2949.4191548559934\n",
      "Iter: 4500, weights: [-6.95179212 -2.03573435  2.84578455], error 2949.1855619585185\n",
      "Final MSE: 2949.041745306268\n",
      "Iter: 0, weights: [ 0.74613818  0.06172344 -1.10203929], error 3010.7421381756867\n",
      "Iter: 500, weights: [-2.71625878 -0.75852943 -0.06073493], error 2979.5887553971816\n",
      "Iter: 1000, weights: [-4.41614938 -1.09361401  0.88903554], error 2966.658831743031\n",
      "Iter: 1500, weights: [-5.30602729 -1.31878521  1.50188785], error 2960.311556416629\n",
      "Iter: 2000, weights: [-5.78153043 -1.48321138  1.87542307], error 2956.9848385773216\n",
      "Iter: 2500, weights: [-6.03769077 -1.60059087  2.10106611], error 2955.1730637768665\n",
      "Iter: 3000, weights: [-6.17639379 -1.68192234  2.23755685], error 2954.162079759691\n",
      "Iter: 3500, weights: [-6.25184609 -1.73697241  2.32040197], error 2953.5885278410383\n",
      "Iter: 4000, weights: [-6.29309093 -1.77359207  2.37086516], error 2953.259115796383\n",
      "Iter: 4500, weights: [-6.31575584 -1.79763717  2.40170421], error 2953.0680425427004\n",
      "Final MSE: 2952.9562730863436\n",
      "Iter: 0, weights: [ 1.9567374   0.58778217 -1.00326798], error 3025.1799964823067\n",
      "Iter: 500, weights: [-2.16432501 -0.62695318 -0.24452527], error 2983.9571993010645\n",
      "Iter: 1000, weights: [-3.97492144 -1.00437384  0.68743468], error 2969.7424184698502\n",
      "Iter: 1500, weights: [-4.84481203 -1.22022152  1.27021974], error 2963.3314018224546\n",
      "Iter: 2000, weights: [-5.27480969 -1.36448222  1.60278672], error 2960.2069151214214\n",
      "Iter: 2500, weights: [-5.48956587 -1.46014402  1.78955741], error 2958.6224086104635\n",
      "Iter: 3000, weights: [-5.59743015 -1.52182055  1.89442591], error 2957.799909130818\n",
      "Iter: 3500, weights: [-5.65186398 -1.56065254  1.95348956], error 2957.3663904042082\n",
      "Iter: 4000, weights: [-5.67946766 -1.58466869  1.9868723 ], error 2957.1353041279144\n",
      "Iter: 4500, weights: [-5.69353902 -1.5993243   2.00580241], error 2957.0109859632444\n",
      "Final MSE: 2956.943567877471\n",
      "Iter: 0, weights: [ 0.35071504  0.32120868 -2.15882911], error 3009.226982460264\n",
      "Iter: 500, weights: [-2.64565619 -0.42202421 -0.36881772], error 2981.2346573428576\n",
      "Iter: 1000, weights: [-3.97823282 -0.83774329  0.61061837], error 2970.1206784602628\n",
      "Iter: 1500, weights: [-4.58347573 -1.08765803  1.11821322], error 2965.2547514400253\n",
      "Iter: 2000, weights: [-4.86070903 -1.23567254  1.37903862], error 2963.010635155185\n",
      "Iter: 2500, weights: [-4.98838318 -1.32133197  1.51323042], error 2961.94537485377\n",
      "Iter: 3000, weights: [-5.04747104 -1.36997366  1.5824908 ], error 2961.430793663233\n",
      "Iter: 3500, weights: [-5.07495818 -1.39719897  1.61835653], error 2961.1792127712647\n",
      "Iter: 4000, weights: [-5.0878161  -1.41227069  1.63698551], error 2961.055056248488\n",
      "Iter: 4500, weights: [-5.09386681 -1.4205437   1.64668752], error 2960.993295761538\n",
      "Final MSE: 2960.9623560849423\n"
     ]
    },
    {
     "name": "stdout",
     "output_type": "stream",
     "text": [
      "Iter: 0, weights: [-0.32675991  0.83293158  0.1752691 ], error 3004.4810061249705\n",
      "Iter: 500, weights: [-3.02614061 -0.59303043  0.30932628], error 2977.099380975936\n",
      "Iter: 1000, weights: [-3.93187799 -0.95508888  0.80860777], error 2969.8293977067706\n",
      "Iter: 1500, weights: [-4.28197213 -1.10847895  1.08433175], error 2967.006316846722\n",
      "Iter: 2000, weights: [-4.42378367 -1.18549766  1.21609878], error 2965.8286176071556\n",
      "Iter: 2500, weights: [-4.48215718 -1.22499672  1.27742807], error 2965.3236983234156\n",
      "Iter: 3000, weights: [-4.50637292 -1.24506064  1.30588402], error 2965.1040675885747\n",
      "Iter: 3500, weights: [-4.51647817 -1.2551267   1.31911139], error 2965.007576973876\n",
      "Iter: 4000, weights: [-4.52071945 -1.26012409  1.32527644], error 2964.9648377834214\n",
      "Iter: 4500, weights: [-4.52251035 -1.26258446  1.3281573 ], error 2964.945768136234\n",
      "Final MSE: 2964.9372019411594\n",
      "Iter: 0, weights: [-2.25072249 -0.47116351  0.16749133], error 2983.01682643803\n",
      "Iter: 500, weights: [-3.40204642 -0.88677522  0.61078947], error 2973.590802944528\n",
      "Iter: 1000, weights: [-3.77990052 -1.01776361  0.86525924], error 2970.5517531663086\n",
      "Iter: 1500, weights: [-3.91253376 -1.07426308  0.9746684 ], error 2969.4566680572016\n",
      "Iter: 2000, weights: [-3.96011939 -1.10006109  1.01944571], error 2969.048414719261\n",
      "Iter: 2500, weights: [-3.97734679 -1.11175236  1.03762936], error 2968.893834899023\n",
      "Iter: 3000, weights: [-3.98362055 -1.11696876  1.04502153], error 2968.8347214564865\n",
      "Iter: 3500, weights: [-3.98591771 -1.11926477  1.04803509], error 2968.811931396362\n",
      "Iter: 4000, weights: [-3.98676359 -1.12026459  1.04926718], error 2968.8030797069628\n",
      "Iter: 4500, weights: [-3.98707695 -1.12069635  1.04977225], error 2968.799617525241\n",
      "Final MSE: 2968.798254333823\n",
      "Iter: 0, weights: [ 0.31243363  1.8460597  -0.11382028], error 3016.058683121032\n",
      "Iter: 500, weights: [-2.52309053 -0.3111553   0.03349007], error 2981.5550517530723\n",
      "Iter: 1000, weights: [-3.20855367 -0.76656302  0.50593357], error 2975.2333637106226\n",
      "Iter: 1500, weights: [-3.40562072 -0.91145821  0.70347788], error 2973.3678971805894\n",
      "Iter: 2000, weights: [-3.46573929 -0.96403595  0.77481004], error 2972.7730698891132\n",
      "Iter: 2500, weights: [-3.48445653 -0.98354643  0.79987487], error 2972.5785051151042\n",
      "Iter: 3000, weights: [-3.49034054 -0.99076888  0.80864736], error 2972.5140774771935\n",
      "Iter: 3500, weights: [-3.49220351 -0.99342588  0.81172072], error 2972.4925635073246\n",
      "Iter: 4000, weights: [-3.49279735 -0.99439761  0.81279947], error 2972.4853288440636\n",
      "Iter: 4500, weights: [-3.49298794 -0.99475127  0.81317882], error 2972.4828805229545\n",
      "Final MSE: 2972.482047138167\n",
      "Iter: 0, weights: [-0.22254908  0.78162003  1.6822264 ], error 3010.4657062233823\n",
      "Iter: 500, weights: [-2.52879495 -0.73031748  0.48497841], error 2980.037095248047\n",
      "Iter: 1000, weights: [-2.9264105  -0.8555532   0.55161981], error 2976.885590349192\n",
      "Iter: 1500, weights: [-3.01439381 -0.87509073  0.59691327], error 2976.1838439723683\n",
      "Iter: 2000, weights: [-3.03579678 -0.88066911  0.61140142], error 2976.0074947152766\n",
      "Iter: 2500, weights: [-3.0411628  -0.88254206  0.61560511], error 2975.961609756353\n",
      "Iter: 3000, weights: [-3.04252277 -0.88316861  0.61680405], error 2975.949501159675\n",
      "Iter: 3500, weights: [-3.04286946 -0.88337282  0.61714583], error 2975.946277326589\n",
      "Iter: 4000, weights: [-3.04295827 -0.88343789  0.61724355], error 2975.9454124153817\n",
      "Iter: 4500, weights: [-3.04298113 -0.88345827  0.61727158], error 2975.945178655305\n",
      "Final MSE: 2975.945115016798\n",
      "Iter: 0, weights: [ 0.02608527 -0.40380769  0.38725976], error 3002.7498713874397\n",
      "Iter: 500, weights: [-2.17284811 -0.7867818   0.30412319], error 2982.710376474411\n",
      "Iter: 1000, weights: [-2.54824987 -0.78507348  0.41711471], error 2979.844296018593\n",
      "Iter: 1500, weights: [-2.61963649 -0.78334773  0.44859332], error 2979.3001002265746\n",
      "Iter: 2000, weights: [-2.63367925 -0.78356096  0.45583829], error 2979.190962486729\n",
      "Iter: 2500, weights: [-2.63647185 -0.78377831  0.45745065], error 2979.1686936633682\n",
      "Iter: 3000, weights: [-2.63702981 -0.78386446  0.45780841], error 2979.1641110326423\n",
      "Iter: 3500, weights: [-2.63714165 -0.78389167  0.45788809], error 2979.163161675356\n",
      "Iter: 4000, weights: [-2.63716414 -0.78389942  0.45790593], error 2979.1629637169067\n",
      "Iter: 4500, weights: [-2.63716868 -0.78390151  0.45790994], error 2979.162922160248\n",
      "Final MSE: 2979.1629133753618\n",
      "Iter: 0, weights: [-1.59448905  0.32433146  1.11663748], error 2991.8446024598247\n",
      "Iter: 500, weights: [-2.23000879 -0.62427601  0.33015167], error 2982.61576071089\n",
      "Iter: 1000, weights: [-2.27001304 -0.68614152  0.32527806], error 2982.1797315054678\n",
      "Iter: 1500, weights: [-2.27394    -0.69294363  0.3297241 ], error 2982.130545892126\n",
      "Iter: 2000, weights: [-2.27447077 -0.69399507  0.33071392], error 2982.1231864698457\n",
      "Iter: 2500, weights: [-2.27455244 -0.69417701  0.3308958 ], error 2982.121976929803\n",
      "Iter: 3000, weights: [-2.27456555 -0.69420933  0.33092804], error 2982.1217724550456\n",
      "Iter: 3500, weights: [-2.27456769 -0.6942151   0.33093371], error 2982.1217375314527\n",
      "Iter: 4000, weights: [-2.27456805 -0.69421613  0.33093471], error 2982.1217315334793\n",
      "Iter: 4500, weights: [-2.27456811 -0.69421631  0.33093489], error 2982.1217304991483\n",
      "Final MSE: 2982.121730320173\n",
      "Iter: 0, weights: [ 0.90262905 -0.34419318 -0.42664039], error 3010.986805234444\n",
      "Iter: 500, weights: [-1.66829663 -0.60275616  0.10529636], error 2987.1665690921777\n",
      "Iter: 1000, weights: [-1.92312272 -0.61088026  0.21541898], error 2985.068508986499\n",
      "Iter: 1500, weights: [-1.94997483 -0.61250503  0.22984636], error 2984.8453710804874\n",
      "Iter: 2000, weights: [-1.95285872 -0.61286554  0.23160809], error 2984.820793662493\n",
      "Iter: 2500, weights: [-1.95317064 -0.61293021  0.23182086], error 2984.8180537608605\n",
      "Iter: 3000, weights: [-1.95320451 -0.61294049  0.2318466 ], error 2984.8177459816807\n",
      "Iter: 3500, weights: [-1.9532082  -0.61294202  0.23184973], error 2984.8177111698246\n",
      "Iter: 4000, weights: [-1.95320861 -0.61294224  0.23185011], error 2984.8177072050335\n",
      "Iter: 4500, weights: [-1.95320865 -0.61294227  0.23185016], error 2984.8177067502593\n",
      "Final MSE: 2984.8177066977173\n",
      "Iter: 0, weights: [-0.68996599 -0.6787391   1.32108341], error 2996.1010785637545\n",
      "Iter: 500, weights: [-1.62459884 -0.5899755   0.20239273], error 2987.4555436682017\n",
      "Iter: 1000, weights: [-1.66776872 -0.54393244  0.15920735], error 2987.2611552352796\n",
      "Iter: 1500, weights: [-1.67030694 -0.53948916  0.15645245], error 2987.254434320558\n",
      "Iter: 2000, weights: [-1.6704699  -0.53911608  0.15623103], error 2987.2542605868766\n",
      "Iter: 2500, weights: [-1.67048054 -0.53908553  0.15621215], error 2987.2542683804327\n",
      "Iter: 3000, weights: [-1.67048123 -0.53908303  0.15621053], error 2987.2542705243663\n",
      "Iter: 3500, weights: [-1.67048127 -0.53908283  0.15621039], error 2987.2542708084043\n",
      "Iter: 4000, weights: [-1.67048127 -0.53908281  0.15621037], error 2987.25427083962\n",
      "Iter: 4500, weights: [-1.67048127 -0.53908281  0.15621037], error 2987.2542708427645\n",
      "Final MSE: 2987.2542708430665\n",
      "Iter: 0, weights: [-1.22757209  0.04910692 -0.97334304], error 2993.4709605962967\n",
      "Iter: 500, weights: [-1.40867094 -0.43524192  0.05655525], error 2989.6843469499004\n",
      "Iter: 1000, weights: [-1.42262134 -0.46995885  0.0977325 ], error 2989.4529858046913\n",
      "Iter: 1500, weights: [-1.42334884 -0.4718792   0.09970704], error 2989.4407417248435\n",
      "Iter: 2000, weights: [-1.42338448 -0.47198046  0.09980668], error 2989.4401208845416\n",
      "Iter: 2500, weights: [-1.42338621 -0.47198574  0.09981177], error 2989.4400896183497\n",
      "Iter: 3000, weights: [-1.42338629 -0.47198602  0.09981204], error 2989.4400880420385\n",
      "Iter: 3500, weights: [-1.4233863  -0.47198603  0.09981205], error 2989.4400879623604\n",
      "Iter: 4000, weights: [-1.4233863  -0.47198603  0.09981205], error 2989.4400879583222\n",
      "Iter: 4500, weights: [-1.4233863  -0.47198603  0.09981205], error 2989.4400879581176\n",
      "Final MSE: 2989.440087958107\n",
      "Iter: 0, weights: [ 1.44686419 -0.87396377  0.01924061], error 3015.046297631247\n",
      "Iter: 500, weights: [-1.14958158 -0.42924637  0.04861089], error 2991.8360912873204\n",
      "Iter: 1000, weights: [-1.20733871 -0.4116937   0.05852151], error 2991.3978344486945\n",
      "Iter: 1500, weights: [-1.20869775 -0.41123345  0.05882359], error 2991.387655892319\n",
      "Iter: 2000, weights: [-1.20873024 -0.4112223   0.0588314 ], error 2991.3874126838414\n",
      "Iter: 2500, weights: [-1.20873102 -0.41122204  0.0588316 ], error 2991.387406827521\n",
      "Iter: 3000, weights: [-1.20873104 -0.41122203  0.0588316 ], error 2991.3874066861185\n",
      "Iter: 3500, weights: [-1.20873104 -0.41122203  0.0588316 ], error 2991.387406682699\n",
      "Iter: 4000, weights: [-1.20873104 -0.41122203  0.0588316 ], error 2991.3874066826174\n"
     ]
    },
    {
     "name": "stdout",
     "output_type": "stream",
     "text": [
      "Iter: 4500, weights: [-1.20873104 -0.41122203  0.0588316 ], error 2991.3874066826147\n",
      "Final MSE: 2991.3874066826147\n",
      "Iter: 0, weights: [-0.39490034 -0.38210891 -0.14115528], error 2998.582687194909\n",
      "Iter: 500, weights: [-1.01615891 -0.35696359  0.02701764], error 2993.1710381249227\n",
      "Iter: 1000, weights: [-1.02319582 -0.35648114  0.02987197], error 2993.1115444821417\n",
      "Iter: 1500, weights: [-1.0232783  -0.35647811  0.02991113], error 2993.110838200514\n",
      "Iter: 2000, weights: [-1.02327927 -0.35647813  0.02991165], error 2993.110829661262\n",
      "Iter: 2500, weights: [-1.02327928 -0.35647813  0.02991166], error 2993.1108295571385\n",
      "Iter: 3000, weights: [-1.02327928 -0.35647813  0.02991166], error 2993.11082955586\n",
      "Iter: 3500, weights: [-1.02327928 -0.35647813  0.02991166], error 2993.1108295558447\n",
      "Iter: 4000, weights: [-1.02327928 -0.35647813  0.02991166], error 2993.1108295558447\n",
      "Iter: 4500, weights: [-1.02327928 -0.35647813  0.02991166], error 2993.1108295558447\n",
      "Final MSE: 2993.1108295558447\n",
      "Iter: 0, weights: [ 1.15786688 -0.48576725 -0.54975363], error 3013.095869057134\n",
      "Iter: 500, weights: [-0.85414027 -0.30852629  0.00643384], error 2994.708469167753\n",
      "Iter: 1000, weights: [-0.86381228 -0.30748471  0.01017809], error 2994.6268448740448\n",
      "Iter: 1500, weights: [-0.86386007 -0.30748101  0.0101994 ], error 2994.6264370068284\n",
      "Iter: 2000, weights: [-0.86386031 -0.307481    0.01019951], error 2994.6264349364196\n",
      "Iter: 2500, weights: [-0.86386031 -0.307481    0.01019951], error 2994.626434925831\n",
      "Iter: 3000, weights: [-0.86386031 -0.307481    0.01019951], error 2994.6264349257763\n",
      "Iter: 3500, weights: [-0.86386031 -0.307481    0.01019951], error 2994.6264349257763\n",
      "Iter: 4000, weights: [-0.86386031 -0.307481    0.01019951], error 2994.6264349257763\n",
      "Iter: 4500, weights: [-0.86386031 -0.307481    0.01019951], error 2994.6264349257763\n",
      "Final MSE: 2994.6264349257763\n"
     ]
    },
    {
     "data": {
      "image/png": "[encoded data removed]",
      "text/plain": [
       "<Figure size 432x288 with 1 Axes>"
      ]
     },
     "metadata": {
      "needs_background": "light"
     },
     "output_type": "display_data"
    }
   ],
   "source": [
    "n = 50\n",
    "\n",
    "train_amount = 7\n",
    "train_X = X_st[:train_amount, 1:4]\n",
    "train_y = y[:train_amount]\n",
    "test_X = X_st[train_amount:,1:4]\n",
    "test_y = y[train_amount:]\n",
    "\n",
    "coeffs = np.zeros((n, train_X.shape[1]))\n",
    "alpha_list = np.logspace(-3, 1, n)\n",
    "\n",
    "for i, val in enumerate(alpha_list):\n",
    "    coeffs[i, :] = gradient_descent_reg_l2(train_X, train_y, iterations=5000, eta=1e-3, reg=val)\n",
    "for i in range(train_X.shape[1]):\n",
    "    plt.plot(alpha_list, coeffs[:, i])\n",
    "\n",
    "plt.title('Убывание абсолютных значений весов признаков\\n при увеличении коэффициента регуляризации alpha (Ridge)')\n",
    "plt.xticks(np.arange(0, 11, 1))\n",
    "plt.xlabel('alpha')\n",
    "plt.ylabel('Вес признака');"
   ]
  },
  {
   "cell_type": "markdown",
   "id": "92d4adf4",
   "metadata": {},
   "source": [
    "__2. Напишите функцию наподобие gradient_descent_reg_l2, но для применения L1-регуляризации.__"
   ]
  },
  {
   "cell_type": "code",
   "execution_count": 12,
   "id": "99d205c5",
   "metadata": {},
   "outputs": [],
   "source": [
    "def gradient_descent_reg_l1(X, y, iterations, eta=1e-4, reg=1e-8):\n",
    "    W = np.random.randn(X.shape[1])\n",
    "    n = X.shape[0]\n",
    "\n",
    "    for i in range(0, iterations):\n",
    "        y_pred = np.dot(X, W)\n",
    "        err = calc_mse(y, y_pred)\n",
    "\n",
    "        dQ = 2 / n * X.T @ (y_pred - y)  # градиент функции ошибки\n",
    "\n",
    "        dReg = reg * np.sum(np.abs(W), axis=0)  # градиент регуляризации\n",
    "\n",
    "        W -= eta * (dQ + dReg)\n",
    "\n",
    "        if i % (iterations / 10) == 0:\n",
    "            print(f'Iter: {i}, weights: {W}, error {err}')\n",
    "\n",
    "    print(f'Final MSE: {calc_mse(y, np.dot(X, W))}')\n",
    "    return W"
   ]
  },
  {
   "cell_type": "code",
   "execution_count": 13,
   "id": "d00e9943",
   "metadata": {},
   "outputs": [
    {
     "name": "stdout",
     "output_type": "stream",
     "text": [
      "Iter: 0, weights: [10.54556341  1.35635329  2.2458515   2.04408177], error 3494.7903375950873\n",
      "Iter: 500, weights: [56.1544899   6.1200526  -0.41592422  6.41158459], error 25.163054505161764\n",
      "Iter: 1000, weights: [56.15448836  6.12008021 -0.41606184  6.41169738], error 25.16305362042747\n",
      "Iter: 1500, weights: [56.15448836  6.12008021 -0.41606185  6.41169739], error 25.16305362039879\n",
      "Iter: 2000, weights: [56.15448836  6.12008021 -0.41606185  6.41169739], error 25.163053620398777\n",
      "Iter: 2500, weights: [56.15448836  6.12008021 -0.41606185  6.41169739], error 25.163053620398777\n",
      "Iter: 3000, weights: [56.15448836  6.12008021 -0.41606185  6.41169739], error 25.163053620398777\n",
      "Iter: 3500, weights: [56.15448836  6.12008021 -0.41606185  6.41169739], error 25.163053620398777\n",
      "Iter: 4000, weights: [56.15448836  6.12008021 -0.41606185  6.41169739], error 25.163053620398777\n",
      "Iter: 4500, weights: [56.15448836  6.12008021 -0.41606185  6.41169739], error 25.163053620398777\n",
      "Final MSE: 25.163053620398777\n"
     ]
    },
    {
     "data": {
      "text/plain": [
       "array([56.15448836,  6.12008021, -0.41606185,  6.41169739])"
      ]
     },
     "execution_count": 13,
     "metadata": {},
     "output_type": "execute_result"
    }
   ],
   "source": [
    "gradient_descent_reg_l1(X_st, y, iterations=5000, eta=1e-1, reg=1e-2)"
   ]
  },
  {
   "cell_type": "markdown",
   "id": "c5d0c873",
   "metadata": {},
   "source": [
    "__2. Можно ли к одному и тому же признаку применить сразу и нормализацию, и стандартизацию?__"
   ]
  },
  {
   "cell_type": "code",
   "execution_count": 14,
   "id": "a53716b1",
   "metadata": {},
   "outputs": [],
   "source": [
    "def standard_scale(X):\n",
    "    mean = X.mean(axis=0)\n",
    "    std = X.std(axis=0)\n",
    "    return (X - mean) / std"
   ]
  },
  {
   "cell_type": "code",
   "execution_count": 15,
   "id": "694a201d",
   "metadata": {},
   "outputs": [],
   "source": [
    "def min_max_scale(X):\n",
    "    return (X - X.min(axis=0)) / (X.max(axis=0) - X.min(axis=0))"
   ]
  },
  {
   "cell_type": "code",
   "execution_count": 16,
   "id": "ee71cc58",
   "metadata": {},
   "outputs": [
    {
     "data": {
      "text/plain": [
       "(array([0., 0., 0.]), array([1., 1., 1.]))"
      ]
     },
     "execution_count": 16,
     "metadata": {},
     "output_type": "execute_result"
    }
   ],
   "source": [
    "X_norm = X.copy().astype('float64')\n",
    "X_norm = min_max_scale(X_norm[:, 1:])\n",
    "X_norm.min(axis=0), X_norm.max(axis=0)"
   ]
  },
  {
   "cell_type": "code",
   "execution_count": 17,
   "id": "c68a795c",
   "metadata": {},
   "outputs": [
    {
     "data": {
      "text/plain": [
       "(array([0.3       , 0.33870968, 0.35      ]),\n",
       " array([0.28284271, 0.31283671, 0.39051248]))"
      ]
     },
     "execution_count": 17,
     "metadata": {},
     "output_type": "execute_result"
    }
   ],
   "source": [
    "X_norm.mean(axis=0), X_norm.std(axis=0)"
   ]
  },
  {
   "cell_type": "code",
   "execution_count": 18,
   "id": "38734a36",
   "metadata": {},
   "outputs": [
    {
     "data": {
      "text/plain": [
       "(array([-1.06066017, -1.08270439, -0.89625816]),\n",
       " array([2.47487373, 2.11385144, 1.66447944]))"
      ]
     },
     "execution_count": 18,
     "metadata": {},
     "output_type": "execute_result"
    }
   ],
   "source": [
    "X_norm_st = standard_scale(X_norm)\n",
    "X_norm_st.min(axis=0), X_norm_st.max(axis=0)"
   ]
  },
  {
   "cell_type": "code",
   "execution_count": 19,
   "id": "74a911d7",
   "metadata": {},
   "outputs": [
    {
     "data": {
      "text/plain": [
       "(array([-1.49880108e-16, -6.86950496e-17,  8.32667268e-17]),\n",
       " array([1., 1., 1.]))"
      ]
     },
     "execution_count": 19,
     "metadata": {},
     "output_type": "execute_result"
    }
   ],
   "source": [
    "X_norm_st.mean(axis=0), X_norm_st.std(axis=0)"
   ]
  },
  {
   "cell_type": "markdown",
   "id": "8c5d04e7",
   "metadata": {},
   "source": [
    "__3. *Сгенерируйте датасет при помощи sklearn.datasets.make_regression и обучите линейную модель при помощи градиентного и стохастического градиентного спуска. Нанесите среднеквадратичную ошибку для обоих методов на один график, сделайте выводы о разнице скорости сходимости каждого из методов.__"
   ]
  },
  {
   "cell_type": "code",
   "execution_count": 20,
   "id": "88396a20",
   "metadata": {},
   "outputs": [
    {
     "data": {
      "text/plain": [
       "array([[-0.71760732, -1.09367119, -0.73597009, ..., -0.09194752,\n",
       "         0.77271648, -0.5294093 ],\n",
       "       [-0.21856062, -0.43937009,  1.17601766, ..., -0.44205731,\n",
       "         0.65967443, -0.5364636 ],\n",
       "       [-0.09232329, -0.04777714,  0.58128624, ..., -0.64041891,\n",
       "         1.29076796, -0.34530826],\n",
       "       ...,\n",
       "       [-0.1724219 ,  1.20477844,  0.77081956, ...,  1.78646758,\n",
       "        -0.59041036, -0.6747931 ],\n",
       "       [ 0.93830193, -0.05266006,  1.45767292, ..., -1.01765261,\n",
       "         0.02393901,  1.37086726],\n",
       "       [-0.99582701,  1.30720547, -0.04855569, ...,  1.85683052,\n",
       "        -0.26133944,  0.50888458]])"
      ]
     },
     "metadata": {},
     "output_type": "display_data"
    },
    {
     "data": {
      "text/plain": [
       "array([-133.10543687,   44.01778172,   48.98233093, ..., -271.14963388,\n",
       "        161.66813826,  380.05918834])"
      ]
     },
     "metadata": {},
     "output_type": "display_data"
    },
    {
     "data": {
      "text/plain": [
       "array([8.03590530e+00, 9.63394753e+00, 0.00000000e+00, 0.00000000e+00,\n",
       "       0.00000000e+00, 7.86058430e+01, 0.00000000e+00, 0.00000000e+00,\n",
       "       9.61298231e+01, 5.95379955e+01, 0.00000000e+00, 3.30583257e+01,\n",
       "       3.71965212e+01, 6.59198012e-02, 0.00000000e+00, 0.00000000e+00,\n",
       "       0.00000000e+00, 2.78539772e+01, 0.00000000e+00, 7.36381949e+01])"
      ]
     },
     "metadata": {},
     "output_type": "display_data"
    }
   ],
   "source": [
    "from sklearn import datasets\n",
    "\n",
    "X, Y, coef = datasets.make_regression(n_samples=100000, n_features=20, n_informative=10, n_targets=1, \n",
    "                                      noise=5, coef=True, random_state=2)\n",
    "display(X, Y, coef)"
   ]
  },
  {
   "cell_type": "code",
   "execution_count": 21,
   "id": "5936b62a",
   "metadata": {},
   "outputs": [],
   "source": [
    "X = standard_scale(X)"
   ]
  },
  {
   "cell_type": "code",
   "execution_count": 22,
   "id": "ed26a2b6",
   "metadata": {},
   "outputs": [
    {
     "data": {
      "text/plain": [
       "array([ 0.05056171,  0.49995133, -0.99590893,  0.69359851, -0.41830152,\n",
       "       -1.58457724, -0.64770677,  0.59857517,  0.33225003, -1.14747663,\n",
       "        0.61866969, -0.08798693,  0.4250724 ,  0.33225315, -1.15681626,\n",
       "        0.35099715, -0.60688728,  1.54697933,  0.72334161,  0.04613557])"
      ]
     },
     "execution_count": 22,
     "metadata": {},
     "output_type": "execute_result"
    }
   ],
   "source": [
    "np.random.seed(4)\n",
    "init_W = np.random.randn(X.shape[1])\n",
    "init_W"
   ]
  },
  {
   "cell_type": "code",
   "execution_count": 23,
   "id": "583e6b23",
   "metadata": {},
   "outputs": [],
   "source": [
    "# стохастический градиентный спуск\n",
    "\n",
    "def stohastic_gradient_descent(W, X, Y, iterations, eta=1e-4, size=1):\n",
    "    n = X.shape[0]\n",
    "    \n",
    "    errors = []\n",
    "    w_list = [W.copy()]\n",
    "    for i in range(0, iterations):\n",
    "        \n",
    "        train_ind = np.random.randint(X.shape[0], size=size)\n",
    "\n",
    "        y_pred = np.dot(X[train_ind], W)\n",
    "        W = W - eta * 2 / Y[train_ind].shape[0] * np.dot(X[train_ind].T, y_pred - Y[train_ind])\n",
    "\n",
    "        error = calc_mse(Y, np.dot(X, W))\n",
    "        errors.append(error)\n",
    "        w_list.append(W)\n",
    "        \n",
    "        if i % (iterations / 10) == 0:\n",
    "            print(f'Iter: {i}, error {error}')\n",
    "    \n",
    "    print(f'Final MSE: {calc_mse(Y, np.dot(X, W))}')\n",
    "    return W, errors, w_list"
   ]
  },
  {
   "cell_type": "code",
   "execution_count": 24,
   "id": "22f65117",
   "metadata": {},
   "outputs": [],
   "source": [
    "# классический  GD\n",
    "def gradient_descent(W, X, y, iterations, eta=1e-4):\n",
    "    n = X.shape[0]\n",
    "    \n",
    "    errors = []\n",
    "    w_list = [W.copy()]\n",
    "    for i in range(0, iterations):\n",
    "        y_pred = np.dot(X, W)\n",
    "        err = calc_mse(y, y_pred)\n",
    "        errors.append(err)\n",
    "        \n",
    "        dQ = 2/n * X.T @ (y_pred - y) # градиент функции ошибки\n",
    "        W -= (eta * dQ)\n",
    "        w_list.append(W.copy())\n",
    "        \n",
    "        if i % (iterations / 10) == 0:\n",
    "            print(f'Iter: {i}, error {err}')\n",
    "        \n",
    "    print(f'Final MSE: {calc_mse(y, np.dot(X, W))}')\n",
    "    return W, errors, w_list"
   ]
  },
  {
   "cell_type": "code",
   "execution_count": 25,
   "id": "65d76519",
   "metadata": {},
   "outputs": [
    {
     "name": "stdout",
     "output_type": "stream",
     "text": [
      "Iter: 0, error 28238.145558270597\n",
      "Iter: 500, error 3773.857140475058\n",
      "Iter: 1000, error 523.5463031642968\n",
      "Iter: 1500, error 91.40234234740227\n",
      "Iter: 2000, error 33.905382777624474\n",
      "Iter: 2500, error 26.24984618250239\n",
      "Iter: 3000, error 25.229794983175754\n",
      "Iter: 3500, error 25.0937805690566\n",
      "Iter: 4000, error 25.075631039130027\n",
      "Iter: 4500, error 25.073207422322483\n",
      "Final MSE: 25.07288354458468\n",
      "Wall time: 39.3 s\n"
     ]
    }
   ],
   "source": [
    "%%time\n",
    "weights_GD, errors_GD, w_list_GD = gradient_descent(init_W, X, Y, iterations=5000, eta=1e-3)"
   ]
  },
  {
   "cell_type": "code",
   "execution_count": 26,
   "id": "70a04aff",
   "metadata": {},
   "outputs": [
    {
     "data": {
      "text/plain": [
       "array([ 1.10855471e-03, -2.89544069e-01, -1.11606630e+00, -1.28827567e-02,\n",
       "       -3.78361464e-01, -4.81135363e-01, -1.51733118e+00, -4.90871981e-01,\n",
       "       -2.40680579e-01, -6.47947460e-01,  6.35891080e-01,  1.74011731e+00,\n",
       "        2.96682218e-01,  7.07503662e-01,  1.82281576e+00,  4.30769029e-01,\n",
       "        1.54272963e+00, -9.00721171e-01, -1.37125010e-01,  1.29757901e+00])"
      ]
     },
     "execution_count": 26,
     "metadata": {},
     "output_type": "execute_result"
    }
   ],
   "source": [
    "np.random.seed(9)\n",
    "init_W = np.random.randn(X.shape[1])\n",
    "init_W"
   ]
  },
  {
   "cell_type": "code",
   "execution_count": 27,
   "id": "1780f970",
   "metadata": {},
   "outputs": [
    {
     "name": "stdout",
     "output_type": "stream",
     "text": [
      "Iter: 0, error 27940.77081989326\n",
      "Iter: 500, error 3909.816186117472\n",
      "Iter: 1000, error 706.2521418796898\n",
      "Iter: 1500, error 120.35629563367924\n",
      "Iter: 2000, error 39.60425259602933\n",
      "Iter: 2500, error 28.22301680954602\n",
      "Iter: 3000, error 25.817348849230516\n",
      "Iter: 3500, error 25.704226689560503\n",
      "Iter: 4000, error 25.595371308044225\n",
      "Iter: 4500, error 25.525400398020874\n",
      "Final MSE: 25.42803342673532\n",
      "Wall time: 7.22 s\n"
     ]
    }
   ],
   "source": [
    "%%time\n",
    "weights_SGD, errors_SGD, w_list_SGD = stohastic_gradient_descent(init_W, X, Y, iterations=5000, eta=1e-3, size=1)"
   ]
  },
  {
   "cell_type": "code",
   "execution_count": 28,
   "id": "49cffd24",
   "metadata": {},
   "outputs": [
    {
     "data": {
      "image/png": "[encoded data removed]",
      "text/plain": [
       "<Figure size 432x288 with 1 Axes>"
      ]
     },
     "metadata": {
      "needs_background": "light"
     },
     "output_type": "display_data"
    }
   ],
   "source": [
    "# Визуализируем изменение функционала ошибки\n",
    "plt.plot(range(len(errors_GD)), errors_GD, color='b', label='GD')\n",
    "plt.plot(range(len(errors_SGD)), errors_SGD, color='g', label='SGD')\n",
    "\n",
    "plt.title('MSE')\n",
    "plt.xlabel('Iteration number')\n",
    "plt.ylabel('MSE')\n",
    "plt.xlim(0, 1000)\n",
    "plt.legend();"
   ]
  },
  {
   "cell_type": "code",
   "execution_count": 29,
   "id": "28ac5e0e",
   "metadata": {},
   "outputs": [],
   "source": [
    "w_list_GD = np.array(w_list_GD)\n",
    "w_list_SGD = np.array(w_list_SGD)"
   ]
  },
  {
   "cell_type": "code",
   "execution_count": 30,
   "id": "596e285a",
   "metadata": {},
   "outputs": [
    {
     "data": {
      "image/png": "[encoded data removed]",
      "text/plain": [
       "<Figure size 936x432 with 1 Axes>"
      ]
     },
     "metadata": {
      "needs_background": "light"
     },
     "output_type": "display_data"
    }
   ],
   "source": [
    "# Визуализируем изменение весов (красной точкой обозначены истинные веса, сгенерированные вначале)\n",
    "plt.figure(figsize=(13, 6))\n",
    "plt.title('Compare SGD and GD')\n",
    "plt.xlabel(r'$w_1$')\n",
    "plt.ylabel(r'$w_2$')\n",
    "\n",
    "plt.scatter(w_list_GD[:, 0], w_list_GD[:, 1], color='b')\n",
    "plt.plot(w_list_GD[:, 0], w_list_GD[:, 1], color='b', label='GD')\n",
    "\n",
    "plt.scatter(w_list_SGD[:, 0], w_list_SGD[:, 1], color='g')\n",
    "plt.plot(w_list_SGD[:, 0], w_list_SGD[:, 1], color='g', label='SGD')\n",
    "plt.scatter(coef[0], coef[1], c='r')\n",
    "\n",
    "plt.legend()\n",
    "plt.show()"
   ]
  }
 ],
 "metadata": {
  "kernelspec": {
   "display_name": "Python 3 (ipykernel)",
   "language": "python",
   "name": "python3"
  },
  "language_info": {
   "codemirror_mode": {
    "name": "ipython",
    "version": 3
   },
   "file_extension": ".py",
   "mimetype": "text/x-python",
   "name": "python",
   "nbconvert_exporter": "python",
   "pygments_lexer": "ipython3",
   "version": "3.9.7"
  }
 },
 "nbformat": 4,
 "nbformat_minor": 5
}
