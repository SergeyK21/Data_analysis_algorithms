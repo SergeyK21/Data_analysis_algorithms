{
 "cells": [
  {
   "cell_type": "markdown",
   "id": "565617d6",
   "metadata": {},
   "source": [
    "__Деревья решений__\n",
    "\n",
    "В задачах машинного обучения чаще всего в вершинах прописываются максимально простые условия. Обычно это сравнение значения одного из признаков $x^{j}$ с некоторым заданным порогом $t$:\n",
    "\n",
    "$$[x^{j} \\leq t].$$\n",
    "\n",
    "Если решается задача классификации, конечным прогнозом является класс или распределение вероятностей классов. В случае регрессии прогноз в листе является вещественным числом.\n",
    "\n",
    "Большим плюсом деревьев является тот факт, что они легко интерпретируемы. "
   ]
  },
  {
   "cell_type": "markdown",
   "id": "0dbde0d2",
   "metadata": {},
   "source": [
    "В машинном обучении деревья строятся последовательно от корня к листьям (так называемый \"жадный\" способ). Вначале выбирается корень и критерий, по которому выборка разбивается на две. Затем то же самое делается для каждого из потомков этого корня и так далее до достаточного уровня ветвления. Задача состоит в выборе способа **разбиения каждого из узлов**, то есть в выборе значения порога, с которым будет сравниваться значение одного из признаков в каждом узле.\n",
    "\n",
    "Разбиение выбирается с точки зрения некоторого заранее заданного функционала качества $Q(X, j, t)$. Находятся наилучшие значения $j$ и $t$ для создания _предиката_ $[x^{j}<t]$. **Параметры $j$ и $t$ можно выбирать перебором**: признаков конечное число, а из всех возможных значений порога $t$ можно рассматривать только те, при которых получаются различные разбиения на две подвыборки, таким образом, различных значений параметра $t$ будет столько же, сколько различных значений признака $x^{j}$ в обучающей выборке."
   ]
  },
  {
   "cell_type": "markdown",
   "id": "07d11a56",
   "metadata": {},
   "source": [
    "В каждой вершине производится проверка, не выполнилось ли некоторое условие останова (критерии останова рассмотрим далее), и если оно выполнилось, разбиение прекращается, и вершина объвляется листом, и он будет содержать прогноз.\n",
    "\n",
    "В задаче _классификации_ это будет класс, к которому относится большая часть объектов из выборки в листе $X_{m}$\n",
    "\n",
    "$$a_{m} = \\text{argmax}_{y \\in Y} \\sum_{i \\in X_{m}}[y_{i}=y]$$\n",
    "\n",
    "или доля объектов определенного класса $k$, если требуется предсказать _вероятности классов_\n",
    "\n",
    "$$a_{mk} = \\frac{1}{|X_{m}|} \\sum_{i \\in X_{m}}[y_{i}=k].$$\n"
   ]
  },
  {
   "cell_type": "markdown",
   "id": "1a55f467",
   "metadata": {},
   "source": [
    "В случае _регрессии_ можно в качестве ответа давать средний по выборке в листе\n",
    "\n",
    "$$a_{m} = \\frac{1}{|X_{m}|} \\sum_{i \\in X_{m}}y_{i}.$$\n",
    "\n",
    "После построения дерева может проводиться его _стрижка_ (pruning) - удаление некоторых вершин согласно некоторому подходу с целью понижения сложности модели и повышения обобщающей способности."
   ]
  },
  {
   "cell_type": "markdown",
   "id": "a1612d37",
   "metadata": {},
   "source": [
    "За функционал качества при работе с деревом решений принимается функционал вида\n",
    "\n",
    "$$Q(X_{m}, j, t) = H(X_{m}) - \\frac{|X_{l}|}{|X_{m}|}H(X_{l}) - \\frac{|X_{r}|}{|X_{m}|}H(X_{r}),$$\n",
    "\n",
    "его еще называют **приростом информации** (information gain).\n",
    "\n",
    "где $X_{m}$ - множество объектов, попавших в вершину на данном шаге, $X_{l}$ и $X_{r}$ - множества, попадающие в левое и правое поддерево, соответственно, после разбиения. $H(X)$ - _критерий информативности_. Он оценивает качество распределения объектов в подмножестве и тем меньше, чем меньше разнообразие ответов в $X$, соответственно, задача обучения состоит в его минимизации и, соответственно, максимизации $Q(X_{m}, j, t)$ на данном шаге. Последний, по сути, характеризует прирост качества на данном шаге."
   ]
  },
  {
   "cell_type": "markdown",
   "id": "eb23c141",
   "metadata": {},
   "source": [
    "__Критерий информативности__\n",
    "\n",
    "В задаче **классификации** есть несколько способов определить критерий информативности.\n",
    "\n",
    "Обозначим через $p_{k}$ долю объектов класса $k$ в выборке $X$:\n",
    "\n",
    "$$p_{k} = \\frac{1}{|X|}\\sum_{i\\in X}[y_{i} = k].$$\n",
    "\n",
    "$p_{k}$ будет характеризовать вероятность выдачи класса $k$.\n",
    "\n",
    "_Энтропийный критерий_ или _энтропия Шеннона_ :\n",
    "\n",
    "$$H(X) = - \\sum^{K}_{k=1}p_{k}\\text{log}_{2}p_{k}.$$\n",
    "\n",
    "Минимум энтропии также достигается когда все объекты относятся к одному класссу, а максимум - при равномерном распределении. Стоит отметить, что в формуле полагается, что $0\\text{log}_{2}0=0.$\n",
    "\n",
    "_Критерий Джини_ или _индекс Джини_ выглядит следующим образом:\n",
    "\n",
    "$$H(X) = \\sum^{K}_{k=1}p_{k}(1-p_{k}) = 1 - \\sum_{k=1}^K{p_k^2} ,$$\n",
    "\n",
    "где $K$ - количество классов в наборе данных $X$.\n",
    "\n",
    "Его минимум достигается когда все объекты в подмножестве относятся к одному классу, а максимум - при равном содержании объектов всех класов. Критерий информативности Джини можно интерпретировать как вероятность ошибки случайного классификатора."
   ]
  },
  {
   "cell_type": "markdown",
   "id": "c0f51724",
   "metadata": {},
   "source": [
    "В случае **регрессии** разброс будет характеризоваться дисперсией или же *среднеквадратичным отклонением*, поэтому критерий информативности будет записан в виде\n",
    "\n",
    "$$H(X) = \\frac{1}{X}\\sum_{i\\in X}(y_{i} - \\bar{y}(X))^{2},$$\n",
    "\n",
    "или же *среднеабсолютным отклонением*:\n",
    "\n",
    "$$H(X) = \\frac{1}{X}\\sum_{i\\in X}(|y_{i} - \\bar{y}(X)|),$$\n",
    "\n",
    "\n",
    "где $\\bar{y}(X)$ - среднее значение ответа в выборке $X$:\n",
    "\n",
    "$$\\bar{y}(X) = \\frac{1}{|X|}\\sum_{i\\in X}y_{i}.$$"
   ]
  },
  {
   "cell_type": "markdown",
   "id": "9153d79b",
   "metadata": {},
   "source": [
    "__Критерии останова__\n",
    "\n",
    "_Критерии останова_ - это критерии, которые показывают, нужно ли остановить процесс построения дерева. Правильный выбор критериев останова роста дерева может существенно повлиять на его качество. Существует большое количество возможных ограничений:\n",
    "\n",
    "- Ограничение максимальной глубины дерева.\n",
    "\n",
    "\n",
    "- Ограничение максимального количества листьев.\n",
    "\n",
    "\n",
    "- Ограничение минимального количества $n$ объектов в листе.\n",
    "\n",
    "\n",
    "- Останов в случае, когда все объекты в листе относятся к одному классу.\n",
    "\n",
    "\n",
    "Подбор оптимальных критериев - сложная задача, которая обычно решается методом кросс-валидации."
   ]
  },
  {
   "cell_type": "markdown",
   "id": "19e53f43",
   "metadata": {},
   "source": [
    "__Стрижка деревьев__\n",
    "\n",
    "В случае применения метода стрижки (обрезки, прунинга) деревьев использовать критерии останова необязательно, и можно строить переобученные деревья, затем снижая их сложность, удаляя листья по некоторому критерию (например, пока улучшается качество на отложенной выборке). Считается, что стрижка работает лучше, чем критерии останова.\n",
    "\n",
    "Одним из методов стрижки является _cost-complexity pruning_. Допустим, мы построили дерево, обозначенное как $T_{0}$. В каждом из листьев находятся объекты одного класса, и значение функционала ошибки $R(T)$ при этом будет минимально на $T_{0}$. Для борьбы с переобучением к нему добавляют \"штраф\" за размер дерева (аналогично регуляризации, рассмотренной нами в предыдущих уроках) и получают новый функционал $R_{\\alpha}(T)$:\n",
    "\n",
    "$$R_{\\alpha}(T) = R(T) + \\alpha|T|,$$\n",
    "\n",
    "где $|T|$ - число листьев в дереве, $\\alpha$ - некоторый параметр регуляризации. Таким образом если при построении дерева на каком-то этапе построения алгоритма ошибка будет неизменна, а глубина дерева увеличиваться, итоговый функционал, состоящий из их суммы, будет расти.\n",
    "\n",
    "Однако стрижка деревьев обладает существенными минусами. В частности, она является очень трудоемкой процедурой. Например, она может требовать вычисления функционала качества на валидационной выборке на каждом шаге. К тому же, на данный момент одиночные деревья на практике почти не используются, а используются композиции деревьев, и в этом случае стрижка как метод борьбы с переобучением становится еще более сложным подходом. Обычно в такой ситуации достаточно использовать простые критерии останова."
   ]
  },
  {
   "cell_type": "code",
   "execution_count": 1,
   "id": "3073a19c",
   "metadata": {},
   "outputs": [],
   "source": [
    "import random\n",
    "\n",
    "from matplotlib.colors import ListedColormap\n",
    "from sklearn.datasets import make_classification, make_circles, make_regression\n",
    "from sklearn.tree import DecisionTreeClassifier, DecisionTreeRegressor, plot_tree\n",
    "from sklearn.metrics import accuracy_score\n",
    "\n",
    "import warnings\n",
    "warnings.filterwarnings('ignore')"
   ]
  },
  {
   "cell_type": "code",
   "execution_count": 2,
   "id": "3b0bce9a",
   "metadata": {},
   "outputs": [],
   "source": [
    "import matplotlib.pyplot as plt\n",
    "import numpy as np\n",
    "import pandas as pd\n",
    "import functools\n",
    "\n",
    "\n",
    "# Реализуем класс узла\n",
    "\n",
    "class Node:\n",
    "\n",
    "    def __init__(self, index, t, true_branch, false_branch):\n",
    "        self.index = index  # индекс признака, по которому ведется сравнение с порогом в этом узле\n",
    "        self.t = t  # значение порога\n",
    "        self.true_branch = true_branch  # поддерево, удовлетворяющее условию в узле\n",
    "        self.false_branch = false_branch  # поддерево, не удовлетворяющее условию в узле\n",
    "\n",
    "\n",
    "# И класс терминального узла (листа)\n",
    "class Leaf:\n",
    "\n",
    "    def __init__(self, data, labels, classes_or_values=True):\n",
    "        self.data = data\n",
    "        self.labels = labels\n",
    "        if classes_or_values:\n",
    "            self.prediction = self.__predict_classes()\n",
    "        else:\n",
    "            self.prediction = self.__predict_values()\n",
    "\n",
    "    def __predict_classes(self):\n",
    "        # подсчет количества объектов разных классов\n",
    "        classes = {}  # сформируем словарь \"класс: количество объектов\"\n",
    "        for label in self.labels:\n",
    "            if label not in classes:\n",
    "                classes[label] = 0\n",
    "            classes[label] += 1\n",
    "\n",
    "        # найдем класс, количество объектов которого будет максимальным в этом листе и вернем его\n",
    "        prediction = max(classes, key=classes.get)\n",
    "        return prediction\n",
    "\n",
    "    def __predict_values(self):\n",
    "        return self.labels.mean()\n",
    "\n",
    "\n",
    "class Tree:\n",
    "    def __init__(self, X, Y, min_samples_leaf=1, max_tree_depth=None):\n",
    "        self.X = X\n",
    "        self.Y = Y\n",
    "        # Ограничение минимального количества n объектов в листе.\n",
    "        self.min_samples_leaf = min_samples_leaf\n",
    "        # Ограничение максимальной глубины дерева.\n",
    "        self.max_tree_depth = max_tree_depth\n",
    "        # Корень дерева решений\n",
    "        self.root = None\n",
    "\n",
    "        self.X_test = np.array([])\n",
    "        self.Y_test = np.array([])\n",
    "        self.X_train = np.array([])\n",
    "        self.Y_train = np.array([])\n",
    "\n",
    "    def set_standard_scale(self):\n",
    "        \"\"\"\n",
    "        Стандартизация столбца данных\n",
    "        :param index: self.data[:, index]\n",
    "        :return: None -> меняет значения по адресам слолбца в self.data\n",
    "        \"\"\"\n",
    "        means = np.mean(self.X, axis=0)\n",
    "        stds = np.std(self.X, axis=0)\n",
    "        for i in range(self.X.shape[0]):\n",
    "            for j in range(self.X.shape[1]):\n",
    "                self.data[i][j] = (self.X[i][j] - means[j]) / stds[j]\n",
    "\n",
    "    @functools.lru_cache()\n",
    "    def test_train(self, train_proportion: float = 0.7):\n",
    "        \"\"\"\n",
    "        Перемешивает -> Разделяет на тестовую и тренеровочную выборку\n",
    "        :param train_proportion: интервалы разбитья от 0 до 1\n",
    "        :return: self.X_train, self.X_test, self.Y_train, self.Y_test\n",
    "        \"\"\"\n",
    "        np.random.seed(12)\n",
    "        shuffle_index = np.random.permutation(self.X.shape[0])\n",
    "        X_shuffled, y_shuffled = self.X[shuffle_index, :], self.Y[shuffle_index]\n",
    "        # X_shuffled, y_shuffled = self.data, self.y\n",
    "        train_test_cut = int(self.X.shape[0] * train_proportion)\n",
    "\n",
    "        self.X_train, self.X_test, self.Y_train, self.Y_test = \\\n",
    "            X_shuffled[:train_test_cut], \\\n",
    "                X_shuffled[train_test_cut:], \\\n",
    "                y_shuffled[:train_test_cut], \\\n",
    "                y_shuffled[train_test_cut:]\n",
    "\n",
    "        return self.X_train, self.X_test, self.Y_train, self.Y_test\n",
    "\n",
    "    # Расчет критерия Джини\n",
    "    def gini(self, labels):\n",
    "        classes = {}\n",
    "        for label in labels:\n",
    "            if label not in classes:\n",
    "                classes[label] = 0\n",
    "            classes[label] += 1\n",
    "        #  расчет критерия\n",
    "        impurity = 1\n",
    "        for label in classes:\n",
    "            p = classes[label] / len(labels)\n",
    "            impurity -= p ** 2\n",
    "\n",
    "        return impurity\n",
    "\n",
    "    # Расчет прироста\n",
    "    def gain(self, left_labels, right_labels, root_gini):\n",
    "        p = float(left_labels.shape[0]) / (left_labels.shape[0] + right_labels.shape[0])\n",
    "        return root_gini - p * self.gini(left_labels) - (1 - p) * self.gini(right_labels)\n",
    "\n",
    "    def split(self, data, labels, column_index, t):\n",
    "\n",
    "        left = np.where(data[:, column_index] <= t)\n",
    "        right = np.where(data[:, column_index] > t)\n",
    "\n",
    "        true_data = data[left]\n",
    "        false_data = data[right]\n",
    "\n",
    "        true_labels = labels[left]\n",
    "        false_labels = labels[right]\n",
    "\n",
    "        return true_data, false_data, true_labels, false_labels\n",
    "\n",
    "    def find_best_split(self, data, labels):\n",
    "        root_gini = self.gini(labels)\n",
    "\n",
    "        best_gain = 0\n",
    "        best_t = None\n",
    "        best_index = None\n",
    "\n",
    "        n_features = data.shape[1]\n",
    "\n",
    "        for index in range(n_features):\n",
    "            t_values = np.unique(data[:, index])\n",
    "\n",
    "            for t in t_values:\n",
    "                true_data, false_data, true_labels, false_labels = self.split(data, labels, index, t)\n",
    "                if len(true_data) < self.min_samples_leaf or len(false_data) < self.min_samples_leaf:\n",
    "                    continue\n",
    "\n",
    "                current_gain = self.gain(true_labels, false_labels, root_gini)\n",
    "\n",
    "                if current_gain > best_gain:\n",
    "                    best_gain, best_t, best_index = current_gain, t, index\n",
    "\n",
    "        return best_gain, best_t, best_index\n",
    "\n",
    "    def build_tree(self, data, labels, classes_or_values=True, count_tree_depth=0):\n",
    "        if self.max_tree_depth and count_tree_depth > self.max_tree_depth:\n",
    "            return Leaf(data, labels, classes_or_values)\n",
    "        count_tree_depth += 1\n",
    "\n",
    "        gain, t, index = self.find_best_split(data, labels)\n",
    "\n",
    "        if gain == 0:\n",
    "            return Leaf(data, labels, classes_or_values)\n",
    "\n",
    "        true_data, false_data, true_labels, false_labels = self.split(data, labels, index, t)\n",
    "\n",
    "        true_branch = self.build_tree(true_data, true_labels, classes_or_values, count_tree_depth)\n",
    "\n",
    "        false_branch = self.build_tree(false_data, false_labels, classes_or_values, count_tree_depth)\n",
    "        self.root = Node(index, t, true_branch, false_branch)\n",
    "        return Node(index, t, true_branch, false_branch)\n",
    "\n",
    "    def classify_object(self, obj, node):\n",
    "        if isinstance(node, Leaf):\n",
    "            answer = node.prediction\n",
    "            return answer\n",
    "\n",
    "        if obj[node.index] <= node.t:\n",
    "            return self.classify_object(obj, node.true_branch)\n",
    "        else:\n",
    "            return self.classify_object(obj, node.false_branch)\n",
    "\n",
    "    def predict_object(self, obj, node):\n",
    "        if isinstance(node, Leaf):\n",
    "            answer = node.prediction\n",
    "            return answer\n",
    "\n",
    "        if obj[node.index] <= node.t:\n",
    "            return self.predict_object(obj, node.true_branch)\n",
    "        else:\n",
    "            return self.predict_object(obj, node.false_branch)\n",
    "\n",
    "    def predict(self, data, tree):\n",
    "        preds = []\n",
    "        for obj in data:\n",
    "            prediction = self.predict_object(obj, tree)\n",
    "            preds.append(prediction)\n",
    "        return preds\n",
    "\n",
    "    # Визуализируем дерево на графике\n",
    "\n",
    "    def __get_meshgrid(self, data, step=.05, border=1.2):\n",
    "        x_min, x_max = data[:, 0].min() - border, data[:, 0].max() + border\n",
    "        y_min, y_max = data[:, 1].min() - border, data[:, 1].max() + border\n",
    "        return np.meshgrid(np.arange(x_min, x_max, step), np.arange(y_min, y_max, step))\n",
    "\n",
    "    def visualize(self, train_data, test_data, train_labels, test_labels,step=.05, border=1.2):\n",
    "        plt.figure(figsize=(16, 7))\n",
    "\n",
    "        # график обучающей выборки\n",
    "        plt.subplot(1, 2, 1)\n",
    "        xx, yy = self.__get_meshgrid(train_data, step, border)\n",
    "        mesh_predictions = np.array(self.predict(np.c_[xx.ravel(), yy.ravel()], self.root)).reshape(xx.shape)\n",
    "        plt.pcolormesh(xx, yy, mesh_predictions, cmap=light_colors)\n",
    "        plt.scatter(train_data[:, 0], train_data[:, 1], c=train_labels, cmap=colors)\n",
    "        train_accuracy = self.accuracy_metric(train_labels, self.predict(train_data, self.root))\n",
    "        plt.title(f'Train accuracy={train_accuracy:.2f}')\n",
    "\n",
    "        # график тестовой выборки\n",
    "        plt.subplot(1, 2, 2)\n",
    "        xx, yy = self.__get_meshgrid(test_data, step, border)\n",
    "        mesh_predictions = np.array(self.predict(np.c_[xx.ravel(), yy.ravel()], self.root)).reshape(xx.shape)\n",
    "        plt.pcolormesh(xx, yy, mesh_predictions, cmap=light_colors)\n",
    "        plt.scatter(test_data[:, 0], test_data[:, 1], c=test_labels, cmap=colors)\n",
    "        test_accuracy = self.accuracy_metric(test_labels, self.predict(test_data, self.root))\n",
    "        plt.title(f'Test accuracy={test_accuracy:.2f}')\n",
    "        plt.show()\n",
    "    def print_tree(self, node, spacing=\"\"):\n",
    "\n",
    "        # Если лист, то выводим его прогноз\n",
    "        if isinstance(node, Leaf):\n",
    "            print(spacing + \"Прогноз:\", node.prediction)\n",
    "            return\n",
    "\n",
    "        print(spacing + 'Индекс', str(node.index), '<=', str(node.t))\n",
    "\n",
    "        print(spacing + '--> True:')\n",
    "        self.print_tree(node.true_branch, spacing + \"  \")\n",
    "\n",
    "        print(spacing + '--> False:')\n",
    "        self.print_tree(node.false_branch, spacing + \"  \")\n",
    "\n",
    "    def accuracy_metric(self, actual, predicted):\n",
    "        correct = 0\n",
    "        for i in range(actual.shape[0]):\n",
    "            if actual[i] == predicted[i]:\n",
    "                correct += 1\n",
    "        return correct / float(len(actual)) * 100.0"
   ]
  },
  {
   "cell_type": "code",
   "execution_count": 3,
   "id": "7d0cf985",
   "metadata": {},
   "outputs": [
    {
     "data": {
      "text/plain": [
       "array([  62.06381583,   77.52011913,  102.45299266,  -17.34404931,\n",
       "        -12.7935693 ,  -30.68960254, -152.49936131,  -99.46556798,\n",
       "       -110.81020877,   38.53455064,    6.538122  ,   25.13101832,\n",
       "         87.07849349,  -16.94723505,   61.82097441,  -14.75839104,\n",
       "         -6.65555599,  -12.57197586,  -73.03876079,  -17.18593531,\n",
       "         25.93816449,  -76.14660197,  -59.60736436,   97.37826884,\n",
       "         56.23056378,    4.45551083,  -26.8461361 ,  -22.07924002,\n",
       "         53.08041149,  -30.01848235,   22.46775763,   23.0769718 ,\n",
       "         61.78979212,  -17.13761655,   20.43429315,   53.35002851,\n",
       "         25.98976097,   88.42651705,   86.72926742,   31.43172939,\n",
       "       -149.66624362,   15.34452744,   15.42491089,   -4.45901821,\n",
       "        -45.44910653,   12.08555425,  -35.27681259,   -6.52796208,\n",
       "         22.6081917 ,  141.29604887,   55.62142625,   34.16535051,\n",
       "        -27.19301047,  -97.34193416,   84.5511871 ,  -76.66978595,\n",
       "        -81.39203046,  -39.06915545,  -24.93511052,   64.18053052,\n",
       "         63.4903452 ,   -2.28861964,    3.81908974,  -60.45469852,\n",
       "         41.15161024,  -22.26351294,   11.64096079,  -68.7239315 ,\n",
       "         14.80845166,   30.35614963,  143.73475852,  -28.31800566,\n",
       "       -118.56057514,  -29.31584118,  -36.12969008,  -59.30743347,\n",
       "         38.67757597,  -56.85639633,  139.74658292,   24.46305272,\n",
       "        -55.67013163,  -43.41898494,  121.69191209,   74.07270282,\n",
       "        150.66051505,  126.07001331,  -10.05848504,  -54.85753319,\n",
       "         56.53643052,   18.00280258,   38.92290053,  107.03654147,\n",
       "         -5.31971157,  -21.91407212,  -35.73437364,   40.37786586,\n",
       "          7.6425323 ,   66.14773594,   40.97958082,  -13.0331683 ])"
      ]
     },
     "execution_count": 3,
     "metadata": {},
     "output_type": "execute_result"
    }
   ],
   "source": [
    "# сгенерируем данные\n",
    "data, targets = make_regression(n_features=2, n_informative=2, random_state=5)\n",
    "targets"
   ]
  },
  {
   "cell_type": "code",
   "execution_count": 4,
   "id": "d83f1c3e",
   "metadata": {},
   "outputs": [],
   "source": [
    "my_tree = Tree(data, targets, 5)"
   ]
  },
  {
   "cell_type": "code",
   "execution_count": 5,
   "id": "0df736c6",
   "metadata": {},
   "outputs": [
    {
     "name": "stdout",
     "output_type": "stream",
     "text": [
      "Размер массива признаков обучающей выборки (70, 2)\n",
      "Размер массива признаков тестовой выборки (30, 2)\n",
      "Размер массива ответов для обучающей выборки (70,)\n",
      "Размер массива ответов для тестовой выборки (30,)\n"
     ]
    }
   ],
   "source": [
    "X_train, X_test, Y_train, Y_test = my_tree.test_train()\n",
    "print(\"Размер массива признаков обучающей выборки\", X_train.shape)\n",
    "print(\"Размер массива признаков тестовой выборки\", X_test.shape)\n",
    "print(\"Размер массива ответов для обучающей выборки\", Y_train.shape)\n",
    "print(\"Размер массива ответов для тестовой выборки\", Y_test.shape)"
   ]
  },
  {
   "cell_type": "code",
   "execution_count": 6,
   "id": "48539b3e",
   "metadata": {},
   "outputs": [],
   "source": [
    "Root_Tree = my_tree.build_tree(X_train, Y_train, False)"
   ]
  },
  {
   "cell_type": "code",
   "execution_count": 7,
   "id": "b6796256",
   "metadata": {},
   "outputs": [
    {
     "name": "stdout",
     "output_type": "stream",
     "text": [
      "Индекс 0 <= 1.0613514386873795\n",
      "--> True:\n",
      "  Индекс 0 <= -0.28143012121166766\n",
      "  --> True:\n",
      "    Индекс 0 <= -1.167278449710173\n",
      "    --> True:\n",
      "      Прогноз: -115.16890593443068\n",
      "    --> False:\n",
      "      Индекс 0 <= -0.6385105554205018\n",
      "      --> True:\n",
      "        Прогноз: -52.79653155371342\n",
      "      --> False:\n",
      "        Прогноз: -19.100468534215604\n",
      "  --> False:\n",
      "    Индекс 0 <= 0.7769075911230111\n",
      "    --> True:\n",
      "      Индекс 0 <= -0.05567103468791388\n",
      "      --> True:\n",
      "        Прогноз: -6.697416389633458\n",
      "      --> False:\n",
      "        Индекс 0 <= 0.24921765856490757\n",
      "        --> True:\n",
      "          Прогноз: 17.11052998441499\n",
      "        --> False:\n",
      "          Индекс 0 <= 0.49444039812108825\n",
      "          --> True:\n",
      "            Прогноз: 34.45381694832233\n",
      "          --> False:\n",
      "            Прогноз: 45.54220303339151\n",
      "    --> False:\n",
      "      Прогноз: 44.001704198465674\n",
      "--> False:\n",
      "  Индекс 0 <= 1.4652048844331407\n",
      "  --> True:\n",
      "    Прогноз: 97.22633689115725\n",
      "  --> False:\n",
      "    Прогноз: 118.6619834883674\n"
     ]
    }
   ],
   "source": [
    "my_tree.print_tree(Root_Tree)"
   ]
  },
  {
   "cell_type": "code",
   "execution_count": 8,
   "id": "6ab4f796",
   "metadata": {},
   "outputs": [
    {
     "name": "stdout",
     "output_type": "stream",
     "text": [
      "0.872350184850413\n",
      "0.8668795201122325\n"
     ]
    }
   ],
   "source": [
    "from sklearn.metrics import r2_score\n",
    "Y = my_tree.predict(X_train, Root_Tree)\n",
    "train_r2 = r2_score(Y_train, Y)\n",
    "print(train_r2)\n",
    "\n",
    "Y = my_tree.predict(X_test, Root_Tree)\n",
    "train_r2 = r2_score(Y_test, Y)\n",
    "print(train_r2)"
   ]
  },
  {
   "cell_type": "code",
   "execution_count": 9,
   "id": "e31c4ff7",
   "metadata": {},
   "outputs": [],
   "source": [
    "classification_data, classification_labels = make_classification(n_features=2, n_informative=2, \n",
    "                                                                 n_classes=2, n_redundant=0,\n",
    "                                                                 n_clusters_per_class=1, random_state=5)"
   ]
  },
  {
   "cell_type": "code",
   "execution_count": 10,
   "id": "150b3d05",
   "metadata": {},
   "outputs": [
    {
     "data": {
      "image/png": "[encoded data removed]",
      "text/plain": [
       "<Figure size 800x800 with 1 Axes>"
      ]
     },
     "metadata": {},
     "output_type": "display_data"
    }
   ],
   "source": [
    "# визуализируем сгенерированные данные\n",
    "\n",
    "colors = ListedColormap(['red', 'blue'])\n",
    "light_colors = ListedColormap(['lightcoral', 'lightblue'])\n",
    "\n",
    "plt.figure(figsize=(8,8))\n",
    "plt.scatter(list(map(lambda x: x[0], classification_data)), list(map(lambda x: x[1], classification_data)), \n",
    "              c=classification_labels, cmap=colors);"
   ]
  },
  {
   "cell_type": "code",
   "execution_count": 11,
   "id": "39697d07",
   "metadata": {},
   "outputs": [],
   "source": [
    "my_tree = Tree(classification_data, classification_labels, 3)"
   ]
  },
  {
   "cell_type": "code",
   "execution_count": 12,
   "id": "ffc41506",
   "metadata": {},
   "outputs": [
    {
     "name": "stdout",
     "output_type": "stream",
     "text": [
      "Размер массива признаков обучающей выборки (70, 2)\n",
      "Размер массива признаков тестовой выборки (30, 2)\n",
      "Размер массива ответов для обучающей выборки (70,)\n",
      "Размер массива ответов для тестовой выборки (30,)\n"
     ]
    }
   ],
   "source": [
    "X_train, X_test, Y_train, Y_test = my_tree.test_train()\n",
    "print(\"Размер массива признаков обучающей выборки\", X_train.shape)\n",
    "print(\"Размер массива признаков тестовой выборки\", X_test.shape)\n",
    "print(\"Размер массива ответов для обучающей выборки\", Y_train.shape)\n",
    "print(\"Размер массива ответов для тестовой выборки\", Y_test.shape)"
   ]
  },
  {
   "cell_type": "code",
   "execution_count": 13,
   "id": "acb3a502",
   "metadata": {},
   "outputs": [],
   "source": [
    "root = my_tree.build_tree(X_train, Y_train)"
   ]
  },
  {
   "cell_type": "code",
   "execution_count": 14,
   "id": "a3f2d4c4",
   "metadata": {},
   "outputs": [
    {
     "name": "stdout",
     "output_type": "stream",
     "text": [
      "Индекс 0 <= 0.16261402870113306\n",
      "--> True:\n",
      "  Индекс 1 <= -1.5208896621663803\n",
      "  --> True:\n",
      "    Индекс 0 <= -0.9478301462477035\n",
      "    --> True:\n",
      "      Прогноз: 0\n",
      "    --> False:\n",
      "      Прогноз: 1\n",
      "  --> False:\n",
      "    Прогноз: 0\n",
      "--> False:\n",
      "  Прогноз: 1\n"
     ]
    }
   ],
   "source": [
    "my_tree.print_tree(root)"
   ]
  },
  {
   "cell_type": "code",
   "execution_count": 15,
   "id": "7e93ade5",
   "metadata": {},
   "outputs": [
    {
     "data": {
      "image/png": "[encoded data removed]",
      "text/plain": [
       "<Figure size 1600x700 with 2 Axes>"
      ]
     },
     "metadata": {},
     "output_type": "display_data"
    }
   ],
   "source": [
    "my_tree.visualize(X_train, X_test, Y_train, Y_test)"
   ]
  },
  {
   "cell_type": "code",
   "execution_count": null,
   "id": "53a1b9b5",
   "metadata": {},
   "outputs": [],
   "source": []
  }
 ],
 "metadata": {
  "kernelspec": {
   "display_name": "Python 3 (ipykernel)",
   "language": "python",
   "name": "python3"
  },
  "language_info": {
   "codemirror_mode": {
    "name": "ipython",
    "version": 3
   },
   "file_extension": ".py",
   "mimetype": "text/x-python",
   "name": "python",
   "nbconvert_exporter": "python",
   "pygments_lexer": "ipython3",
   "version": "3.10.9"
  }
 },
 "nbformat": 4,
 "nbformat_minor": 5
}
